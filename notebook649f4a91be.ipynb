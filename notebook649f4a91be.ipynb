{
  "metadata": {
    "kernelspec": {
      "language": "python",
      "display_name": "Python 3",
      "name": "python3"
    },
    "language_info": {
      "name": "python",
      "version": "3.10.13",
      "mimetype": "text/x-python",
      "codemirror_mode": {
        "name": "ipython",
        "version": 3
      },
      "pygments_lexer": "ipython3",
      "nbconvert_exporter": "python",
      "file_extension": ".py"
    },
    "kaggle": {
      "accelerator": "none",
      "dataSources": [
        {
          "sourceId": 7821724,
          "sourceType": "datasetVersion",
          "datasetId": 4582840
        }
      ],
      "dockerImageVersionId": 30664,
      "isInternetEnabled": false,
      "language": "python",
      "sourceType": "notebook",
      "isGpuEnabled": false
    },
    "colab": {
      "name": "notebook649f4a91be",
      "provenance": [],
      "include_colab_link": true
    }
  },
  "nbformat_minor": 0,
  "nbformat": 4,
  "cells": [
    {
      "cell_type": "markdown",
      "metadata": {
        "id": "view-in-github",
        "colab_type": "text"
      },
      "source": [
        "<a href=\"https://colab.research.google.com/github/xasthon/pandas-deneme/blob/main/notebook649f4a91be.ipynb\" target=\"_parent\"><img src=\"https://colab.research.google.com/assets/colab-badge.svg\" alt=\"Open In Colab\"/></a>"
      ]
    },
    {
      "source": [
        "\n",
        "# IMPORTANT: RUN THIS CELL IN ORDER TO IMPORT YOUR KAGGLE DATA SOURCES\n",
        "# TO THE CORRECT LOCATION (/kaggle/input) IN YOUR NOTEBOOK,\n",
        "# THEN FEEL FREE TO DELETE THIS CELL.\n",
        "# NOTE: THIS NOTEBOOK ENVIRONMENT DIFFERS FROM KAGGLE'S PYTHON\n",
        "# ENVIRONMENT SO THERE MAY BE MISSING LIBRARIES USED BY YOUR\n",
        "# NOTEBOOK.\n",
        "\n",
        "import os\n",
        "import sys\n",
        "from tempfile import NamedTemporaryFile\n",
        "from urllib.request import urlopen\n",
        "from urllib.parse import unquote, urlparse\n",
        "from urllib.error import HTTPError\n",
        "from zipfile import ZipFile\n",
        "import tarfile\n",
        "import shutil\n",
        "\n",
        "CHUNK_SIZE = 40960\n",
        "DATA_SOURCE_MAPPING = 'ifspythondenemesi:https%3A%2F%2Fstorage.googleapis.com%2Fkaggle-data-sets%2F4582840%2F7821724%2Fbundle%2Farchive.zip%3FX-Goog-Algorithm%3DGOOG4-RSA-SHA256%26X-Goog-Credential%3Dgcp-kaggle-com%2540kaggle-161607.iam.gserviceaccount.com%252F20240321%252Fauto%252Fstorage%252Fgoog4_request%26X-Goog-Date%3D20240321T061216Z%26X-Goog-Expires%3D259200%26X-Goog-SignedHeaders%3Dhost%26X-Goog-Signature%3D7124879cf83cd7eb25f32a061745f31037d4a2e76f88975536a6e872488fd6938c15f99305bfcc616000788d26757c1c156e6e1490210c11e926f7dbbd479b59c3a7125bdf10bcfb06d21b012471c6f68e838937095afcbc780fd45fbd43c5b12d429e0f1e102b3f660b14f4cbb47048fad7f900d8aa46f668fde465b421f7b00ac1f381bfbbf9965de9d1cfee89f186032ed9328b85dbbc59e2741ae419feac06362eeff65b72665334a26e4d71db5ecf42f74d817c3764bd5c63f7242bfb86ee50f36251b2b4ad4ed99a22a8985e822250f53e8b7ecf98139c82ea97c835e1ac6b9de5dc0bac9fc37943dbe057ad0ca2722354969447a73709999034183ffb'\n",
        "\n",
        "KAGGLE_INPUT_PATH='/kaggle/input'\n",
        "KAGGLE_WORKING_PATH='/kaggle/working'\n",
        "KAGGLE_SYMLINK='kaggle'\n",
        "\n",
        "!umount /kaggle/input/ 2> /dev/null\n",
        "shutil.rmtree('/kaggle/input', ignore_errors=True)\n",
        "os.makedirs(KAGGLE_INPUT_PATH, 0o777, exist_ok=True)\n",
        "os.makedirs(KAGGLE_WORKING_PATH, 0o777, exist_ok=True)\n",
        "\n",
        "try:\n",
        "  os.symlink(KAGGLE_INPUT_PATH, os.path.join(\"..\", 'input'), target_is_directory=True)\n",
        "except FileExistsError:\n",
        "  pass\n",
        "try:\n",
        "  os.symlink(KAGGLE_WORKING_PATH, os.path.join(\"..\", 'working'), target_is_directory=True)\n",
        "except FileExistsError:\n",
        "  pass\n",
        "\n",
        "for data_source_mapping in DATA_SOURCE_MAPPING.split(','):\n",
        "    directory, download_url_encoded = data_source_mapping.split(':')\n",
        "    download_url = unquote(download_url_encoded)\n",
        "    filename = urlparse(download_url).path\n",
        "    destination_path = os.path.join(KAGGLE_INPUT_PATH, directory)\n",
        "    try:\n",
        "        with urlopen(download_url) as fileres, NamedTemporaryFile() as tfile:\n",
        "            total_length = fileres.headers['content-length']\n",
        "            print(f'Downloading {directory}, {total_length} bytes compressed')\n",
        "            dl = 0\n",
        "            data = fileres.read(CHUNK_SIZE)\n",
        "            while len(data) > 0:\n",
        "                dl += len(data)\n",
        "                tfile.write(data)\n",
        "                done = int(50 * dl / int(total_length))\n",
        "                sys.stdout.write(f\"\\r[{'=' * done}{' ' * (50-done)}] {dl} bytes downloaded\")\n",
        "                sys.stdout.flush()\n",
        "                data = fileres.read(CHUNK_SIZE)\n",
        "            if filename.endswith('.zip'):\n",
        "              with ZipFile(tfile) as zfile:\n",
        "                zfile.extractall(destination_path)\n",
        "            else:\n",
        "              with tarfile.open(tfile.name) as tarfile:\n",
        "                tarfile.extractall(destination_path)\n",
        "            print(f'\\nDownloaded and uncompressed: {directory}')\n",
        "    except HTTPError as e:\n",
        "        print(f'Failed to load (likely expired) {download_url} to path {destination_path}')\n",
        "        continue\n",
        "    except OSError as e:\n",
        "        print(f'Failed to load {download_url} to path {destination_path}')\n",
        "        continue\n",
        "\n",
        "print('Data source import complete.')\n"
      ],
      "metadata": {
        "id": "BK-pZ9ciubrX"
      },
      "cell_type": "code",
      "outputs": [],
      "execution_count": null
    },
    {
      "cell_type": "code",
      "source": [
        "# This Python 3 environment comes with many helpful analytics libraries installed\n",
        "# It is defined by the kaggle/python Docker image: https://github.com/kaggle/docker-python\n",
        "# For example, here's several helpful packages to load\n",
        "\n",
        "import numpy as np # linear algebra\n",
        "import pandas as pd # data processing, CSV file I/O (e.g. pd.read_csv)\n",
        "\n",
        "# Input data files are available in the read-only \"../input/\" directory\n",
        "# For example, running this (by clicking run or pressing Shift+Enter) will list all files under the input directory\n",
        "\n",
        "import os\n",
        "for dirname, _, filenames in os.walk('/kaggle/input'):\n",
        "    for filename in filenames:\n",
        "        print(os.path.join(dirname, filename))\n",
        "\n",
        "# You can write up to 20GB to the current directory (/kaggle/working/) that gets preserved as output when you create a version using \"Save & Run All\"\n",
        "# You can also write temporary files to /kaggle/temp/, but they won't be saved outside of the current session"
      ],
      "metadata": {
        "_uuid": "8f2839f25d086af736a60e9eeb907d3b93b6e0e5",
        "_cell_guid": "b1076dfc-b9ad-4769-8c92-a6c4dae69d19",
        "execution": {
          "iopub.status.busy": "2024-03-14T07:54:14.213371Z",
          "iopub.execute_input": "2024-03-14T07:54:14.213741Z",
          "iopub.status.idle": "2024-03-14T07:54:14.651782Z",
          "shell.execute_reply.started": "2024-03-14T07:54:14.213711Z",
          "shell.execute_reply": "2024-03-14T07:54:14.650937Z"
        },
        "trusted": true,
        "id": "-jYbLeNQubrc",
        "outputId": "6f9cb838-a885-40b0-d3bd-e055bfa667d9"
      },
      "execution_count": null,
      "outputs": [
        {
          "name": "stdout",
          "text": "/kaggle/input/ifspythondenemesi/owneraktivitesaatkontrol-subat.xlsm\n/kaggle/input/ifspythondenemesi/ifs-subat.xlsx\n",
          "output_type": "stream"
        }
      ]
    },
    {
      "cell_type": "code",
      "source": [
        "dataset = pd.read_excel(\"/kaggle/input/ifspythondenemesi/owneraktivitesaatkontrol-subat.xlsm\")\n",
        "dataset2 = pd.read_excel(\"/kaggle/input/ifspythondenemesi/ifs-subat.xlsx\")"
      ],
      "metadata": {
        "execution": {
          "iopub.status.busy": "2024-03-14T08:17:42.886266Z",
          "iopub.execute_input": "2024-03-14T08:17:42.886659Z",
          "iopub.status.idle": "2024-03-14T08:17:45.412208Z",
          "shell.execute_reply.started": "2024-03-14T08:17:42.886627Z",
          "shell.execute_reply": "2024-03-14T08:17:45.411096Z"
        },
        "trusted": true,
        "id": "VuBAJZeRubrd"
      },
      "execution_count": null,
      "outputs": []
    },
    {
      "cell_type": "code",
      "source": [
        "df = dataset.copy()\n",
        "df2 = dataset2.copy()"
      ],
      "metadata": {
        "execution": {
          "iopub.status.busy": "2024-03-14T08:17:45.414367Z",
          "iopub.execute_input": "2024-03-14T08:17:45.414814Z",
          "iopub.status.idle": "2024-03-14T08:17:45.421275Z",
          "shell.execute_reply.started": "2024-03-14T08:17:45.414774Z",
          "shell.execute_reply": "2024-03-14T08:17:45.420068Z"
        },
        "trusted": true,
        "id": "9C9F1WWtubre"
      },
      "execution_count": null,
      "outputs": []
    },
    {
      "cell_type": "code",
      "source": [
        "df"
      ],
      "metadata": {
        "execution": {
          "iopub.status.busy": "2024-03-14T08:17:45.42298Z",
          "iopub.execute_input": "2024-03-14T08:17:45.423458Z",
          "iopub.status.idle": "2024-03-14T08:17:45.435831Z",
          "shell.execute_reply.started": "2024-03-14T08:17:45.42342Z",
          "shell.execute_reply": "2024-03-14T08:17:45.434523Z"
        },
        "trusted": true,
        "id": "uHQZJkvyubre",
        "outputId": "70d47648-48fd-4943-cac9-a3349ec12185"
      },
      "execution_count": null,
      "outputs": [
        {
          "execution_count": 47,
          "output_type": "execute_result",
          "data": {
            "text/plain": "Empty DataFrame\nColumns: [İsim, Project ID, Sub Project ID, Activity ID, Report Code Name, Internal Quantity (Sum), Org Code, tt]\nIndex: []",
            "text/html": "<div>\n<style scoped>\n    .dataframe tbody tr th:only-of-type {\n        vertical-align: middle;\n    }\n\n    .dataframe tbody tr th {\n        vertical-align: top;\n    }\n\n    .dataframe thead th {\n        text-align: right;\n    }\n</style>\n<table border=\"1\" class=\"dataframe\">\n  <thead>\n    <tr style=\"text-align: right;\">\n      <th></th>\n      <th>İsim</th>\n      <th>Project ID</th>\n      <th>Sub Project ID</th>\n      <th>Activity ID</th>\n      <th>Report Code Name</th>\n      <th>Internal Quantity (Sum)</th>\n      <th>Org Code</th>\n      <th>tt</th>\n    </tr>\n  </thead>\n  <tbody>\n  </tbody>\n</table>\n</div>"
          },
          "metadata": {}
        }
      ]
    },
    {
      "cell_type": "code",
      "source": [
        "df2"
      ],
      "metadata": {
        "execution": {
          "iopub.status.busy": "2024-03-14T08:17:45.439302Z",
          "iopub.execute_input": "2024-03-14T08:17:45.43962Z",
          "iopub.status.idle": "2024-03-14T08:17:45.456575Z",
          "shell.execute_reply.started": "2024-03-14T08:17:45.439595Z",
          "shell.execute_reply": "2024-03-14T08:17:45.455345Z"
        },
        "trusted": true,
        "id": "kQOlDXhoubrf",
        "outputId": "f366e3d1-09c5-4562-aeb2-d3fed54af40f"
      },
      "execution_count": null,
      "outputs": [
        {
          "execution_count": 48,
          "output_type": "execute_result",
          "data": {
            "text/plain": "             Employee Name Account Date Project ID Sub Project ID Activity ID  \\\n0           ABDULAZİZ ÜÇER   2024-02-01  GZPTMOD52            GGG         GGG   \n1           ABDULAZİZ ÜÇER   2024-02-01  GZPTMOD52      GZPTMOD52  GR EKP KBL   \n2           ABDULAZİZ ÜÇER   2024-02-02  GZPTMOD52            GGG         GGG   \n3           ABDULAZİZ ÜÇER   2024-02-02  GZPTMOD52      GZPTMOD52  GR EKP KBL   \n4           ABDULAZİZ ÜÇER   2024-02-03  GZPTMOD52            GGG         GGG   \n5           ABDULAZİZ ÜÇER   2024-02-03  GZPTMOD52      GZPTMOD52  GR EKP KBL   \n6           ABDULAZİZ ÜÇER   2024-02-05  GZPTMOD52            GGG         GGG   \n...                    ...          ...        ...            ...         ...   \n15147  ŞERİFE SENA BOZKURT   2024-02-27     OMTTZA            GGG         GGG   \n15148  ŞERİFE SENA BOZKURT   2024-02-27     OMTTZA     OMTTZA_ILS     SNS_ILS   \n15149  ŞERİFE SENA BOZKURT   2024-02-28     OMTTZA            GGG         GGG   \n15150  ŞERİFE SENA BOZKURT   2024-02-28     OMTTZA     OMTTZA_ILS     SNS_ILS   \n15151  ŞERİFE SENA BOZKURT   2024-02-29     OMTTZA            GGG         GGG   \n15152  ŞERİFE SENA BOZKURT   2024-02-29     OMTTZA     OMTTZA_ILS     SNS_ILS   \n15153                  NaN          NaT        NaN            NaN         NaN   \n\n                       Report Code Name  Internal Quantity (Sum)  \\\n0                                 GENEL                     1.00   \n1                               TASARIM                     9.50   \n2                                 GENEL                     1.00   \n3                               TASARIM                     8.00   \n4                                 GENEL                     0.66   \n5                               TASARIM                     3.75   \n6                                 GENEL                     1.00   \n...                                 ...                      ...   \n15147                             GENEL                     1.50   \n15148  TD and Training- Operator Manual                     7.00   \n15149                             GENEL                     1.25   \n15150  TD and Training- Operator Manual                     7.25   \n15151                             GENEL                     1.00   \n15152  TD and Training- Operator Manual                     7.50   \n15153                               NaN                 42576.21   \n\n      Organization Code  \n0                810711  \n1                810711  \n2                810711  \n3                810711  \n4                810711  \n5                810711  \n6                810711  \n...                 ...  \n15147           8107046  \n15148           8107046  \n15149           8107046  \n15150           8107046  \n15151           8107046  \n15152           8107046  \n15153               NaN  \n\n[15154 rows x 8 columns]",
            "text/html": "<div>\n<style scoped>\n    .dataframe tbody tr th:only-of-type {\n        vertical-align: middle;\n    }\n\n    .dataframe tbody tr th {\n        vertical-align: top;\n    }\n\n    .dataframe thead th {\n        text-align: right;\n    }\n</style>\n<table border=\"1\" class=\"dataframe\">\n  <thead>\n    <tr style=\"text-align: right;\">\n      <th></th>\n      <th>Employee Name</th>\n      <th>Account Date</th>\n      <th>Project ID</th>\n      <th>Sub Project ID</th>\n      <th>Activity ID</th>\n      <th>Report Code Name</th>\n      <th>Internal Quantity (Sum)</th>\n      <th>Organization Code</th>\n    </tr>\n  </thead>\n  <tbody>\n    <tr>\n      <th>0</th>\n      <td>ABDULAZİZ ÜÇER</td>\n      <td>2024-02-01</td>\n      <td>GZPTMOD52</td>\n      <td>GGG</td>\n      <td>GGG</td>\n      <td>GENEL</td>\n      <td>1.00</td>\n      <td>810711</td>\n    </tr>\n    <tr>\n      <th>1</th>\n      <td>ABDULAZİZ ÜÇER</td>\n      <td>2024-02-01</td>\n      <td>GZPTMOD52</td>\n      <td>GZPTMOD52</td>\n      <td>GR EKP KBL</td>\n      <td>TASARIM</td>\n      <td>9.50</td>\n      <td>810711</td>\n    </tr>\n    <tr>\n      <th>2</th>\n      <td>ABDULAZİZ ÜÇER</td>\n      <td>2024-02-02</td>\n      <td>GZPTMOD52</td>\n      <td>GGG</td>\n      <td>GGG</td>\n      <td>GENEL</td>\n      <td>1.00</td>\n      <td>810711</td>\n    </tr>\n    <tr>\n      <th>3</th>\n      <td>ABDULAZİZ ÜÇER</td>\n      <td>2024-02-02</td>\n      <td>GZPTMOD52</td>\n      <td>GZPTMOD52</td>\n      <td>GR EKP KBL</td>\n      <td>TASARIM</td>\n      <td>8.00</td>\n      <td>810711</td>\n    </tr>\n    <tr>\n      <th>4</th>\n      <td>ABDULAZİZ ÜÇER</td>\n      <td>2024-02-03</td>\n      <td>GZPTMOD52</td>\n      <td>GGG</td>\n      <td>GGG</td>\n      <td>GENEL</td>\n      <td>0.66</td>\n      <td>810711</td>\n    </tr>\n    <tr>\n      <th>5</th>\n      <td>ABDULAZİZ ÜÇER</td>\n      <td>2024-02-03</td>\n      <td>GZPTMOD52</td>\n      <td>GZPTMOD52</td>\n      <td>GR EKP KBL</td>\n      <td>TASARIM</td>\n      <td>3.75</td>\n      <td>810711</td>\n    </tr>\n    <tr>\n      <th>6</th>\n      <td>ABDULAZİZ ÜÇER</td>\n      <td>2024-02-05</td>\n      <td>GZPTMOD52</td>\n      <td>GGG</td>\n      <td>GGG</td>\n      <td>GENEL</td>\n      <td>1.00</td>\n      <td>810711</td>\n    </tr>\n    <tr>\n      <th>...</th>\n      <td>...</td>\n      <td>...</td>\n      <td>...</td>\n      <td>...</td>\n      <td>...</td>\n      <td>...</td>\n      <td>...</td>\n      <td>...</td>\n    </tr>\n    <tr>\n      <th>15147</th>\n      <td>ŞERİFE SENA BOZKURT</td>\n      <td>2024-02-27</td>\n      <td>OMTTZA</td>\n      <td>GGG</td>\n      <td>GGG</td>\n      <td>GENEL</td>\n      <td>1.50</td>\n      <td>8107046</td>\n    </tr>\n    <tr>\n      <th>15148</th>\n      <td>ŞERİFE SENA BOZKURT</td>\n      <td>2024-02-27</td>\n      <td>OMTTZA</td>\n      <td>OMTTZA_ILS</td>\n      <td>SNS_ILS</td>\n      <td>TD and Training- Operator Manual</td>\n      <td>7.00</td>\n      <td>8107046</td>\n    </tr>\n    <tr>\n      <th>15149</th>\n      <td>ŞERİFE SENA BOZKURT</td>\n      <td>2024-02-28</td>\n      <td>OMTTZA</td>\n      <td>GGG</td>\n      <td>GGG</td>\n      <td>GENEL</td>\n      <td>1.25</td>\n      <td>8107046</td>\n    </tr>\n    <tr>\n      <th>15150</th>\n      <td>ŞERİFE SENA BOZKURT</td>\n      <td>2024-02-28</td>\n      <td>OMTTZA</td>\n      <td>OMTTZA_ILS</td>\n      <td>SNS_ILS</td>\n      <td>TD and Training- Operator Manual</td>\n      <td>7.25</td>\n      <td>8107046</td>\n    </tr>\n    <tr>\n      <th>15151</th>\n      <td>ŞERİFE SENA BOZKURT</td>\n      <td>2024-02-29</td>\n      <td>OMTTZA</td>\n      <td>GGG</td>\n      <td>GGG</td>\n      <td>GENEL</td>\n      <td>1.00</td>\n      <td>8107046</td>\n    </tr>\n    <tr>\n      <th>15152</th>\n      <td>ŞERİFE SENA BOZKURT</td>\n      <td>2024-02-29</td>\n      <td>OMTTZA</td>\n      <td>OMTTZA_ILS</td>\n      <td>SNS_ILS</td>\n      <td>TD and Training- Operator Manual</td>\n      <td>7.50</td>\n      <td>8107046</td>\n    </tr>\n    <tr>\n      <th>15153</th>\n      <td>NaN</td>\n      <td>NaT</td>\n      <td>NaN</td>\n      <td>NaN</td>\n      <td>NaN</td>\n      <td>NaN</td>\n      <td>42576.21</td>\n      <td>NaN</td>\n    </tr>\n  </tbody>\n</table>\n<p>15154 rows × 8 columns</p>\n</div>"
          },
          "metadata": {}
        }
      ]
    },
    {
      "cell_type": "code",
      "source": [
        "pd.set_option('display.min_rows', 15)"
      ],
      "metadata": {
        "execution": {
          "iopub.status.busy": "2024-03-14T08:17:45.45774Z",
          "iopub.execute_input": "2024-03-14T08:17:45.458039Z",
          "iopub.status.idle": "2024-03-14T08:17:45.465979Z",
          "shell.execute_reply.started": "2024-03-14T08:17:45.458013Z",
          "shell.execute_reply": "2024-03-14T08:17:45.464731Z"
        },
        "trusted": true,
        "id": "LsCreGYaubrf"
      },
      "execution_count": null,
      "outputs": []
    },
    {
      "cell_type": "code",
      "source": [
        "df2.head(10)"
      ],
      "metadata": {
        "execution": {
          "iopub.status.busy": "2024-03-14T08:17:45.467155Z",
          "iopub.execute_input": "2024-03-14T08:17:45.468117Z",
          "iopub.status.idle": "2024-03-14T08:17:45.488204Z",
          "shell.execute_reply.started": "2024-03-14T08:17:45.468088Z",
          "shell.execute_reply": "2024-03-14T08:17:45.487423Z"
        },
        "trusted": true,
        "id": "osSUJa4iubrg",
        "outputId": "0da19df3-01a1-4490-e6a8-9ae8f1cb91f8"
      },
      "execution_count": null,
      "outputs": [
        {
          "execution_count": 50,
          "output_type": "execute_result",
          "data": {
            "text/plain": "    Employee Name Account Date Project ID Sub Project ID Activity ID  \\\n0  ABDULAZİZ ÜÇER   2024-02-01  GZPTMOD52            GGG         GGG   \n1  ABDULAZİZ ÜÇER   2024-02-01  GZPTMOD52      GZPTMOD52  GR EKP KBL   \n2  ABDULAZİZ ÜÇER   2024-02-02  GZPTMOD52            GGG         GGG   \n3  ABDULAZİZ ÜÇER   2024-02-02  GZPTMOD52      GZPTMOD52  GR EKP KBL   \n4  ABDULAZİZ ÜÇER   2024-02-03  GZPTMOD52            GGG         GGG   \n5  ABDULAZİZ ÜÇER   2024-02-03  GZPTMOD52      GZPTMOD52  GR EKP KBL   \n6  ABDULAZİZ ÜÇER   2024-02-05  GZPTMOD52            GGG         GGG   \n7  ABDULAZİZ ÜÇER   2024-02-05  GZPTMOD52      GZPTMOD52  GR EKP KBL   \n8  ABDULAZİZ ÜÇER   2024-02-06  GZPTMOD52            GGG         GGG   \n9  ABDULAZİZ ÜÇER   2024-02-06  GZPTMOD52      GZPTMOD52  GR EKP KBL   \n\n  Report Code Name  Internal Quantity (Sum) Organization Code  \n0            GENEL                     1.00            810711  \n1          TASARIM                     9.50            810711  \n2            GENEL                     1.00            810711  \n3          TASARIM                     8.00            810711  \n4            GENEL                     0.66            810711  \n5          TASARIM                     3.75            810711  \n6            GENEL                     1.00            810711  \n7          TASARIM                     7.50            810711  \n8            GENEL                     1.00            810711  \n9          TASARIM                     7.50            810711  ",
            "text/html": "<div>\n<style scoped>\n    .dataframe tbody tr th:only-of-type {\n        vertical-align: middle;\n    }\n\n    .dataframe tbody tr th {\n        vertical-align: top;\n    }\n\n    .dataframe thead th {\n        text-align: right;\n    }\n</style>\n<table border=\"1\" class=\"dataframe\">\n  <thead>\n    <tr style=\"text-align: right;\">\n      <th></th>\n      <th>Employee Name</th>\n      <th>Account Date</th>\n      <th>Project ID</th>\n      <th>Sub Project ID</th>\n      <th>Activity ID</th>\n      <th>Report Code Name</th>\n      <th>Internal Quantity (Sum)</th>\n      <th>Organization Code</th>\n    </tr>\n  </thead>\n  <tbody>\n    <tr>\n      <th>0</th>\n      <td>ABDULAZİZ ÜÇER</td>\n      <td>2024-02-01</td>\n      <td>GZPTMOD52</td>\n      <td>GGG</td>\n      <td>GGG</td>\n      <td>GENEL</td>\n      <td>1.00</td>\n      <td>810711</td>\n    </tr>\n    <tr>\n      <th>1</th>\n      <td>ABDULAZİZ ÜÇER</td>\n      <td>2024-02-01</td>\n      <td>GZPTMOD52</td>\n      <td>GZPTMOD52</td>\n      <td>GR EKP KBL</td>\n      <td>TASARIM</td>\n      <td>9.50</td>\n      <td>810711</td>\n    </tr>\n    <tr>\n      <th>2</th>\n      <td>ABDULAZİZ ÜÇER</td>\n      <td>2024-02-02</td>\n      <td>GZPTMOD52</td>\n      <td>GGG</td>\n      <td>GGG</td>\n      <td>GENEL</td>\n      <td>1.00</td>\n      <td>810711</td>\n    </tr>\n    <tr>\n      <th>3</th>\n      <td>ABDULAZİZ ÜÇER</td>\n      <td>2024-02-02</td>\n      <td>GZPTMOD52</td>\n      <td>GZPTMOD52</td>\n      <td>GR EKP KBL</td>\n      <td>TASARIM</td>\n      <td>8.00</td>\n      <td>810711</td>\n    </tr>\n    <tr>\n      <th>4</th>\n      <td>ABDULAZİZ ÜÇER</td>\n      <td>2024-02-03</td>\n      <td>GZPTMOD52</td>\n      <td>GGG</td>\n      <td>GGG</td>\n      <td>GENEL</td>\n      <td>0.66</td>\n      <td>810711</td>\n    </tr>\n    <tr>\n      <th>5</th>\n      <td>ABDULAZİZ ÜÇER</td>\n      <td>2024-02-03</td>\n      <td>GZPTMOD52</td>\n      <td>GZPTMOD52</td>\n      <td>GR EKP KBL</td>\n      <td>TASARIM</td>\n      <td>3.75</td>\n      <td>810711</td>\n    </tr>\n    <tr>\n      <th>6</th>\n      <td>ABDULAZİZ ÜÇER</td>\n      <td>2024-02-05</td>\n      <td>GZPTMOD52</td>\n      <td>GGG</td>\n      <td>GGG</td>\n      <td>GENEL</td>\n      <td>1.00</td>\n      <td>810711</td>\n    </tr>\n    <tr>\n      <th>7</th>\n      <td>ABDULAZİZ ÜÇER</td>\n      <td>2024-02-05</td>\n      <td>GZPTMOD52</td>\n      <td>GZPTMOD52</td>\n      <td>GR EKP KBL</td>\n      <td>TASARIM</td>\n      <td>7.50</td>\n      <td>810711</td>\n    </tr>\n    <tr>\n      <th>8</th>\n      <td>ABDULAZİZ ÜÇER</td>\n      <td>2024-02-06</td>\n      <td>GZPTMOD52</td>\n      <td>GGG</td>\n      <td>GGG</td>\n      <td>GENEL</td>\n      <td>1.00</td>\n      <td>810711</td>\n    </tr>\n    <tr>\n      <th>9</th>\n      <td>ABDULAZİZ ÜÇER</td>\n      <td>2024-02-06</td>\n      <td>GZPTMOD52</td>\n      <td>GZPTMOD52</td>\n      <td>GR EKP KBL</td>\n      <td>TASARIM</td>\n      <td>7.50</td>\n      <td>810711</td>\n    </tr>\n  </tbody>\n</table>\n</div>"
          },
          "metadata": {}
        }
      ]
    },
    {
      "cell_type": "code",
      "source": [
        "df2.tail(10)"
      ],
      "metadata": {
        "execution": {
          "iopub.status.busy": "2024-03-14T08:17:45.489452Z",
          "iopub.execute_input": "2024-03-14T08:17:45.490383Z",
          "iopub.status.idle": "2024-03-14T08:17:45.50615Z",
          "shell.execute_reply.started": "2024-03-14T08:17:45.490346Z",
          "shell.execute_reply": "2024-03-14T08:17:45.504992Z"
        },
        "trusted": true,
        "id": "ZY9iLGzwubrg",
        "outputId": "45578105-9d4d-4852-dae0-0a39c334a024"
      },
      "execution_count": null,
      "outputs": [
        {
          "execution_count": 51,
          "output_type": "execute_result",
          "data": {
            "text/plain": "             Employee Name Account Date Project ID Sub Project ID Activity ID  \\\n15144  ŞERİFE SENA BOZKURT   2024-02-23     OMTTZA     OMTTZA_ILS     SNS_ILS   \n15145  ŞERİFE SENA BOZKURT   2024-02-26     OMTTZA            GGG         GGG   \n15146  ŞERİFE SENA BOZKURT   2024-02-26     OMTTZA     OMTTZA_ILS     SNS_ILS   \n15147  ŞERİFE SENA BOZKURT   2024-02-27     OMTTZA            GGG         GGG   \n15148  ŞERİFE SENA BOZKURT   2024-02-27     OMTTZA     OMTTZA_ILS     SNS_ILS   \n15149  ŞERİFE SENA BOZKURT   2024-02-28     OMTTZA            GGG         GGG   \n15150  ŞERİFE SENA BOZKURT   2024-02-28     OMTTZA     OMTTZA_ILS     SNS_ILS   \n15151  ŞERİFE SENA BOZKURT   2024-02-29     OMTTZA            GGG         GGG   \n15152  ŞERİFE SENA BOZKURT   2024-02-29     OMTTZA     OMTTZA_ILS     SNS_ILS   \n15153                  NaN          NaT        NaN            NaN         NaN   \n\n                       Report Code Name  Internal Quantity (Sum)  \\\n15144  TD and Training- Operator Manual                     7.25   \n15145                             GENEL                     1.25   \n15146  TD and Training- Operator Manual                     7.25   \n15147                             GENEL                     1.50   \n15148  TD and Training- Operator Manual                     7.00   \n15149                             GENEL                     1.25   \n15150  TD and Training- Operator Manual                     7.25   \n15151                             GENEL                     1.00   \n15152  TD and Training- Operator Manual                     7.50   \n15153                               NaN                 42576.21   \n\n      Organization Code  \n15144           8107046  \n15145           8107046  \n15146           8107046  \n15147           8107046  \n15148           8107046  \n15149           8107046  \n15150           8107046  \n15151           8107046  \n15152           8107046  \n15153               NaN  ",
            "text/html": "<div>\n<style scoped>\n    .dataframe tbody tr th:only-of-type {\n        vertical-align: middle;\n    }\n\n    .dataframe tbody tr th {\n        vertical-align: top;\n    }\n\n    .dataframe thead th {\n        text-align: right;\n    }\n</style>\n<table border=\"1\" class=\"dataframe\">\n  <thead>\n    <tr style=\"text-align: right;\">\n      <th></th>\n      <th>Employee Name</th>\n      <th>Account Date</th>\n      <th>Project ID</th>\n      <th>Sub Project ID</th>\n      <th>Activity ID</th>\n      <th>Report Code Name</th>\n      <th>Internal Quantity (Sum)</th>\n      <th>Organization Code</th>\n    </tr>\n  </thead>\n  <tbody>\n    <tr>\n      <th>15144</th>\n      <td>ŞERİFE SENA BOZKURT</td>\n      <td>2024-02-23</td>\n      <td>OMTTZA</td>\n      <td>OMTTZA_ILS</td>\n      <td>SNS_ILS</td>\n      <td>TD and Training- Operator Manual</td>\n      <td>7.25</td>\n      <td>8107046</td>\n    </tr>\n    <tr>\n      <th>15145</th>\n      <td>ŞERİFE SENA BOZKURT</td>\n      <td>2024-02-26</td>\n      <td>OMTTZA</td>\n      <td>GGG</td>\n      <td>GGG</td>\n      <td>GENEL</td>\n      <td>1.25</td>\n      <td>8107046</td>\n    </tr>\n    <tr>\n      <th>15146</th>\n      <td>ŞERİFE SENA BOZKURT</td>\n      <td>2024-02-26</td>\n      <td>OMTTZA</td>\n      <td>OMTTZA_ILS</td>\n      <td>SNS_ILS</td>\n      <td>TD and Training- Operator Manual</td>\n      <td>7.25</td>\n      <td>8107046</td>\n    </tr>\n    <tr>\n      <th>15147</th>\n      <td>ŞERİFE SENA BOZKURT</td>\n      <td>2024-02-27</td>\n      <td>OMTTZA</td>\n      <td>GGG</td>\n      <td>GGG</td>\n      <td>GENEL</td>\n      <td>1.50</td>\n      <td>8107046</td>\n    </tr>\n    <tr>\n      <th>15148</th>\n      <td>ŞERİFE SENA BOZKURT</td>\n      <td>2024-02-27</td>\n      <td>OMTTZA</td>\n      <td>OMTTZA_ILS</td>\n      <td>SNS_ILS</td>\n      <td>TD and Training- Operator Manual</td>\n      <td>7.00</td>\n      <td>8107046</td>\n    </tr>\n    <tr>\n      <th>15149</th>\n      <td>ŞERİFE SENA BOZKURT</td>\n      <td>2024-02-28</td>\n      <td>OMTTZA</td>\n      <td>GGG</td>\n      <td>GGG</td>\n      <td>GENEL</td>\n      <td>1.25</td>\n      <td>8107046</td>\n    </tr>\n    <tr>\n      <th>15150</th>\n      <td>ŞERİFE SENA BOZKURT</td>\n      <td>2024-02-28</td>\n      <td>OMTTZA</td>\n      <td>OMTTZA_ILS</td>\n      <td>SNS_ILS</td>\n      <td>TD and Training- Operator Manual</td>\n      <td>7.25</td>\n      <td>8107046</td>\n    </tr>\n    <tr>\n      <th>15151</th>\n      <td>ŞERİFE SENA BOZKURT</td>\n      <td>2024-02-29</td>\n      <td>OMTTZA</td>\n      <td>GGG</td>\n      <td>GGG</td>\n      <td>GENEL</td>\n      <td>1.00</td>\n      <td>8107046</td>\n    </tr>\n    <tr>\n      <th>15152</th>\n      <td>ŞERİFE SENA BOZKURT</td>\n      <td>2024-02-29</td>\n      <td>OMTTZA</td>\n      <td>OMTTZA_ILS</td>\n      <td>SNS_ILS</td>\n      <td>TD and Training- Operator Manual</td>\n      <td>7.50</td>\n      <td>8107046</td>\n    </tr>\n    <tr>\n      <th>15153</th>\n      <td>NaN</td>\n      <td>NaT</td>\n      <td>NaN</td>\n      <td>NaN</td>\n      <td>NaN</td>\n      <td>NaN</td>\n      <td>42576.21</td>\n      <td>NaN</td>\n    </tr>\n  </tbody>\n</table>\n</div>"
          },
          "metadata": {}
        }
      ]
    },
    {
      "cell_type": "code",
      "source": [
        "df2.dropna(how='any', inplace=True)     # NaN değerlerin olduğu satırları komple silmek için\n",
        "df2"
      ],
      "metadata": {
        "execution": {
          "iopub.status.busy": "2024-03-14T08:17:45.507467Z",
          "iopub.execute_input": "2024-03-14T08:17:45.50778Z",
          "iopub.status.idle": "2024-03-14T08:17:45.534385Z",
          "shell.execute_reply.started": "2024-03-14T08:17:45.507752Z",
          "shell.execute_reply": "2024-03-14T08:17:45.533221Z"
        },
        "trusted": true,
        "id": "jT0uPzTkubrh",
        "outputId": "a42ce749-ea22-4dc9-d994-af1cb42f1bf0"
      },
      "execution_count": null,
      "outputs": [
        {
          "execution_count": 52,
          "output_type": "execute_result",
          "data": {
            "text/plain": "             Employee Name Account Date Project ID Sub Project ID Activity ID  \\\n0           ABDULAZİZ ÜÇER   2024-02-01  GZPTMOD52            GGG         GGG   \n1           ABDULAZİZ ÜÇER   2024-02-01  GZPTMOD52      GZPTMOD52  GR EKP KBL   \n2           ABDULAZİZ ÜÇER   2024-02-02  GZPTMOD52            GGG         GGG   \n3           ABDULAZİZ ÜÇER   2024-02-02  GZPTMOD52      GZPTMOD52  GR EKP KBL   \n4           ABDULAZİZ ÜÇER   2024-02-03  GZPTMOD52            GGG         GGG   \n5           ABDULAZİZ ÜÇER   2024-02-03  GZPTMOD52      GZPTMOD52  GR EKP KBL   \n6           ABDULAZİZ ÜÇER   2024-02-05  GZPTMOD52            GGG         GGG   \n...                    ...          ...        ...            ...         ...   \n15146  ŞERİFE SENA BOZKURT   2024-02-26     OMTTZA     OMTTZA_ILS     SNS_ILS   \n15147  ŞERİFE SENA BOZKURT   2024-02-27     OMTTZA            GGG         GGG   \n15148  ŞERİFE SENA BOZKURT   2024-02-27     OMTTZA     OMTTZA_ILS     SNS_ILS   \n15149  ŞERİFE SENA BOZKURT   2024-02-28     OMTTZA            GGG         GGG   \n15150  ŞERİFE SENA BOZKURT   2024-02-28     OMTTZA     OMTTZA_ILS     SNS_ILS   \n15151  ŞERİFE SENA BOZKURT   2024-02-29     OMTTZA            GGG         GGG   \n15152  ŞERİFE SENA BOZKURT   2024-02-29     OMTTZA     OMTTZA_ILS     SNS_ILS   \n\n                       Report Code Name  Internal Quantity (Sum)  \\\n0                                 GENEL                     1.00   \n1                               TASARIM                     9.50   \n2                                 GENEL                     1.00   \n3                               TASARIM                     8.00   \n4                                 GENEL                     0.66   \n5                               TASARIM                     3.75   \n6                                 GENEL                     1.00   \n...                                 ...                      ...   \n15146  TD and Training- Operator Manual                     7.25   \n15147                             GENEL                     1.50   \n15148  TD and Training- Operator Manual                     7.00   \n15149                             GENEL                     1.25   \n15150  TD and Training- Operator Manual                     7.25   \n15151                             GENEL                     1.00   \n15152  TD and Training- Operator Manual                     7.50   \n\n      Organization Code  \n0                810711  \n1                810711  \n2                810711  \n3                810711  \n4                810711  \n5                810711  \n6                810711  \n...                 ...  \n15146           8107046  \n15147           8107046  \n15148           8107046  \n15149           8107046  \n15150           8107046  \n15151           8107046  \n15152           8107046  \n\n[15153 rows x 8 columns]",
            "text/html": "<div>\n<style scoped>\n    .dataframe tbody tr th:only-of-type {\n        vertical-align: middle;\n    }\n\n    .dataframe tbody tr th {\n        vertical-align: top;\n    }\n\n    .dataframe thead th {\n        text-align: right;\n    }\n</style>\n<table border=\"1\" class=\"dataframe\">\n  <thead>\n    <tr style=\"text-align: right;\">\n      <th></th>\n      <th>Employee Name</th>\n      <th>Account Date</th>\n      <th>Project ID</th>\n      <th>Sub Project ID</th>\n      <th>Activity ID</th>\n      <th>Report Code Name</th>\n      <th>Internal Quantity (Sum)</th>\n      <th>Organization Code</th>\n    </tr>\n  </thead>\n  <tbody>\n    <tr>\n      <th>0</th>\n      <td>ABDULAZİZ ÜÇER</td>\n      <td>2024-02-01</td>\n      <td>GZPTMOD52</td>\n      <td>GGG</td>\n      <td>GGG</td>\n      <td>GENEL</td>\n      <td>1.00</td>\n      <td>810711</td>\n    </tr>\n    <tr>\n      <th>1</th>\n      <td>ABDULAZİZ ÜÇER</td>\n      <td>2024-02-01</td>\n      <td>GZPTMOD52</td>\n      <td>GZPTMOD52</td>\n      <td>GR EKP KBL</td>\n      <td>TASARIM</td>\n      <td>9.50</td>\n      <td>810711</td>\n    </tr>\n    <tr>\n      <th>2</th>\n      <td>ABDULAZİZ ÜÇER</td>\n      <td>2024-02-02</td>\n      <td>GZPTMOD52</td>\n      <td>GGG</td>\n      <td>GGG</td>\n      <td>GENEL</td>\n      <td>1.00</td>\n      <td>810711</td>\n    </tr>\n    <tr>\n      <th>3</th>\n      <td>ABDULAZİZ ÜÇER</td>\n      <td>2024-02-02</td>\n      <td>GZPTMOD52</td>\n      <td>GZPTMOD52</td>\n      <td>GR EKP KBL</td>\n      <td>TASARIM</td>\n      <td>8.00</td>\n      <td>810711</td>\n    </tr>\n    <tr>\n      <th>4</th>\n      <td>ABDULAZİZ ÜÇER</td>\n      <td>2024-02-03</td>\n      <td>GZPTMOD52</td>\n      <td>GGG</td>\n      <td>GGG</td>\n      <td>GENEL</td>\n      <td>0.66</td>\n      <td>810711</td>\n    </tr>\n    <tr>\n      <th>5</th>\n      <td>ABDULAZİZ ÜÇER</td>\n      <td>2024-02-03</td>\n      <td>GZPTMOD52</td>\n      <td>GZPTMOD52</td>\n      <td>GR EKP KBL</td>\n      <td>TASARIM</td>\n      <td>3.75</td>\n      <td>810711</td>\n    </tr>\n    <tr>\n      <th>6</th>\n      <td>ABDULAZİZ ÜÇER</td>\n      <td>2024-02-05</td>\n      <td>GZPTMOD52</td>\n      <td>GGG</td>\n      <td>GGG</td>\n      <td>GENEL</td>\n      <td>1.00</td>\n      <td>810711</td>\n    </tr>\n    <tr>\n      <th>...</th>\n      <td>...</td>\n      <td>...</td>\n      <td>...</td>\n      <td>...</td>\n      <td>...</td>\n      <td>...</td>\n      <td>...</td>\n      <td>...</td>\n    </tr>\n    <tr>\n      <th>15146</th>\n      <td>ŞERİFE SENA BOZKURT</td>\n      <td>2024-02-26</td>\n      <td>OMTTZA</td>\n      <td>OMTTZA_ILS</td>\n      <td>SNS_ILS</td>\n      <td>TD and Training- Operator Manual</td>\n      <td>7.25</td>\n      <td>8107046</td>\n    </tr>\n    <tr>\n      <th>15147</th>\n      <td>ŞERİFE SENA BOZKURT</td>\n      <td>2024-02-27</td>\n      <td>OMTTZA</td>\n      <td>GGG</td>\n      <td>GGG</td>\n      <td>GENEL</td>\n      <td>1.50</td>\n      <td>8107046</td>\n    </tr>\n    <tr>\n      <th>15148</th>\n      <td>ŞERİFE SENA BOZKURT</td>\n      <td>2024-02-27</td>\n      <td>OMTTZA</td>\n      <td>OMTTZA_ILS</td>\n      <td>SNS_ILS</td>\n      <td>TD and Training- Operator Manual</td>\n      <td>7.00</td>\n      <td>8107046</td>\n    </tr>\n    <tr>\n      <th>15149</th>\n      <td>ŞERİFE SENA BOZKURT</td>\n      <td>2024-02-28</td>\n      <td>OMTTZA</td>\n      <td>GGG</td>\n      <td>GGG</td>\n      <td>GENEL</td>\n      <td>1.25</td>\n      <td>8107046</td>\n    </tr>\n    <tr>\n      <th>15150</th>\n      <td>ŞERİFE SENA BOZKURT</td>\n      <td>2024-02-28</td>\n      <td>OMTTZA</td>\n      <td>OMTTZA_ILS</td>\n      <td>SNS_ILS</td>\n      <td>TD and Training- Operator Manual</td>\n      <td>7.25</td>\n      <td>8107046</td>\n    </tr>\n    <tr>\n      <th>15151</th>\n      <td>ŞERİFE SENA BOZKURT</td>\n      <td>2024-02-29</td>\n      <td>OMTTZA</td>\n      <td>GGG</td>\n      <td>GGG</td>\n      <td>GENEL</td>\n      <td>1.00</td>\n      <td>8107046</td>\n    </tr>\n    <tr>\n      <th>15152</th>\n      <td>ŞERİFE SENA BOZKURT</td>\n      <td>2024-02-29</td>\n      <td>OMTTZA</td>\n      <td>OMTTZA_ILS</td>\n      <td>SNS_ILS</td>\n      <td>TD and Training- Operator Manual</td>\n      <td>7.50</td>\n      <td>8107046</td>\n    </tr>\n  </tbody>\n</table>\n<p>15153 rows × 8 columns</p>\n</div>"
          },
          "metadata": {}
        }
      ]
    },
    {
      "cell_type": "code",
      "source": [
        "df2.info()\n",
        "# genel bakış"
      ],
      "metadata": {
        "execution": {
          "iopub.status.busy": "2024-03-14T08:17:45.535581Z",
          "iopub.execute_input": "2024-03-14T08:17:45.535955Z",
          "iopub.status.idle": "2024-03-14T08:17:45.551812Z",
          "shell.execute_reply.started": "2024-03-14T08:17:45.535924Z",
          "shell.execute_reply": "2024-03-14T08:17:45.550665Z"
        },
        "trusted": true,
        "id": "wi0sNCo-ubri",
        "outputId": "904629ac-47f7-4c4c-8501-54fd3db359cf"
      },
      "execution_count": null,
      "outputs": [
        {
          "name": "stdout",
          "text": "<class 'pandas.core.frame.DataFrame'>\nIndex: 15153 entries, 0 to 15152\nData columns (total 8 columns):\n #   Column                   Non-Null Count  Dtype         \n---  ------                   --------------  -----         \n 0   Employee Name            15153 non-null  object        \n 1   Account Date             15153 non-null  datetime64[ns]\n 2   Project ID               15153 non-null  object        \n 3   Sub Project ID           15153 non-null  object        \n 4   Activity ID              15153 non-null  object        \n 5   Report Code Name         15153 non-null  object        \n 6   Internal Quantity (Sum)  15153 non-null  float64       \n 7   Organization Code        15153 non-null  object        \ndtypes: datetime64[ns](1), float64(1), object(6)\nmemory usage: 1.0+ MB\n",
          "output_type": "stream"
        }
      ]
    },
    {
      "cell_type": "code",
      "source": [
        "df2.shape\n",
        "# kaç satır, sütun var"
      ],
      "metadata": {
        "execution": {
          "iopub.status.busy": "2024-03-14T08:17:47.847145Z",
          "iopub.execute_input": "2024-03-14T08:17:47.848103Z",
          "iopub.status.idle": "2024-03-14T08:17:47.85368Z",
          "shell.execute_reply.started": "2024-03-14T08:17:47.848068Z",
          "shell.execute_reply": "2024-03-14T08:17:47.852602Z"
        },
        "trusted": true,
        "id": "PLG7pfUJubri",
        "outputId": "4ef2b3d4-9ceb-4e20-d508-e2b936dcdc07"
      },
      "execution_count": null,
      "outputs": [
        {
          "execution_count": 54,
          "output_type": "execute_result",
          "data": {
            "text/plain": "(15153, 8)"
          },
          "metadata": {}
        }
      ]
    },
    {
      "cell_type": "code",
      "source": [
        "df2.count()\n",
        "# herhangi bir satırda NaN değer var mı kontrolü"
      ],
      "metadata": {
        "execution": {
          "iopub.status.busy": "2024-03-14T08:17:48.758033Z",
          "iopub.execute_input": "2024-03-14T08:17:48.758768Z",
          "iopub.status.idle": "2024-03-14T08:17:48.773362Z",
          "shell.execute_reply.started": "2024-03-14T08:17:48.758731Z",
          "shell.execute_reply": "2024-03-14T08:17:48.772163Z"
        },
        "trusted": true,
        "id": "R3se0_qOubri",
        "outputId": "afecf79a-3ff6-42c2-bc4c-32f83a9ec21d"
      },
      "execution_count": null,
      "outputs": [
        {
          "execution_count": 55,
          "output_type": "execute_result",
          "data": {
            "text/plain": "Employee Name              15153\nAccount Date               15153\nProject ID                 15153\nSub Project ID             15153\nActivity ID                15153\nReport Code Name           15153\nInternal Quantity (Sum)    15153\nOrganization Code          15153\ndtype: int64"
          },
          "metadata": {}
        }
      ]
    },
    {
      "cell_type": "code",
      "source": [
        "df2.nunique()\n",
        "# Her bir sütundaki unique değerlerin sayısı"
      ],
      "metadata": {
        "execution": {
          "iopub.status.busy": "2024-03-14T08:17:49.560845Z",
          "iopub.execute_input": "2024-03-14T08:17:49.56137Z",
          "iopub.status.idle": "2024-03-14T08:17:49.576535Z",
          "shell.execute_reply.started": "2024-03-14T08:17:49.561337Z",
          "shell.execute_reply": "2024-03-14T08:17:49.575489Z"
        },
        "trusted": true,
        "id": "owT_Px7xubrj",
        "outputId": "5c3e716f-3f60-45a2-e203-c4d2097cfe0a"
      },
      "execution_count": null,
      "outputs": [
        {
          "execution_count": 56,
          "output_type": "execute_result",
          "data": {
            "text/plain": "Employee Name              259\nAccount Date                29\nProject ID                  50\nSub Project ID             107\nActivity ID                277\nReport Code Name            82\nInternal Quantity (Sum)     55\nOrganization Code           69\ndtype: int64"
          },
          "metadata": {}
        }
      ]
    },
    {
      "cell_type": "code",
      "source": [
        "df2.drop('Account Date', axis=1, inplace=True)  # Account Date sütununun silinmesi\n",
        "df2"
      ],
      "metadata": {
        "execution": {
          "iopub.status.busy": "2024-03-14T08:17:56.543693Z",
          "iopub.execute_input": "2024-03-14T08:17:56.544435Z",
          "iopub.status.idle": "2024-03-14T08:17:56.563709Z",
          "shell.execute_reply.started": "2024-03-14T08:17:56.5444Z",
          "shell.execute_reply": "2024-03-14T08:17:56.562698Z"
        },
        "trusted": true,
        "id": "-gAqUITHubrj",
        "outputId": "6fd9d136-f381-4b7e-8511-5c57316dbfc2"
      },
      "execution_count": null,
      "outputs": [
        {
          "execution_count": 57,
          "output_type": "execute_result",
          "data": {
            "text/plain": "             Employee Name Project ID Sub Project ID Activity ID  \\\n0           ABDULAZİZ ÜÇER  GZPTMOD52            GGG         GGG   \n1           ABDULAZİZ ÜÇER  GZPTMOD52      GZPTMOD52  GR EKP KBL   \n2           ABDULAZİZ ÜÇER  GZPTMOD52            GGG         GGG   \n3           ABDULAZİZ ÜÇER  GZPTMOD52      GZPTMOD52  GR EKP KBL   \n4           ABDULAZİZ ÜÇER  GZPTMOD52            GGG         GGG   \n5           ABDULAZİZ ÜÇER  GZPTMOD52      GZPTMOD52  GR EKP KBL   \n6           ABDULAZİZ ÜÇER  GZPTMOD52            GGG         GGG   \n...                    ...        ...            ...         ...   \n15146  ŞERİFE SENA BOZKURT     OMTTZA     OMTTZA_ILS     SNS_ILS   \n15147  ŞERİFE SENA BOZKURT     OMTTZA            GGG         GGG   \n15148  ŞERİFE SENA BOZKURT     OMTTZA     OMTTZA_ILS     SNS_ILS   \n15149  ŞERİFE SENA BOZKURT     OMTTZA            GGG         GGG   \n15150  ŞERİFE SENA BOZKURT     OMTTZA     OMTTZA_ILS     SNS_ILS   \n15151  ŞERİFE SENA BOZKURT     OMTTZA            GGG         GGG   \n15152  ŞERİFE SENA BOZKURT     OMTTZA     OMTTZA_ILS     SNS_ILS   \n\n                       Report Code Name  Internal Quantity (Sum)  \\\n0                                 GENEL                     1.00   \n1                               TASARIM                     9.50   \n2                                 GENEL                     1.00   \n3                               TASARIM                     8.00   \n4                                 GENEL                     0.66   \n5                               TASARIM                     3.75   \n6                                 GENEL                     1.00   \n...                                 ...                      ...   \n15146  TD and Training- Operator Manual                     7.25   \n15147                             GENEL                     1.50   \n15148  TD and Training- Operator Manual                     7.00   \n15149                             GENEL                     1.25   \n15150  TD and Training- Operator Manual                     7.25   \n15151                             GENEL                     1.00   \n15152  TD and Training- Operator Manual                     7.50   \n\n      Organization Code  \n0                810711  \n1                810711  \n2                810711  \n3                810711  \n4                810711  \n5                810711  \n6                810711  \n...                 ...  \n15146           8107046  \n15147           8107046  \n15148           8107046  \n15149           8107046  \n15150           8107046  \n15151           8107046  \n15152           8107046  \n\n[15153 rows x 7 columns]",
            "text/html": "<div>\n<style scoped>\n    .dataframe tbody tr th:only-of-type {\n        vertical-align: middle;\n    }\n\n    .dataframe tbody tr th {\n        vertical-align: top;\n    }\n\n    .dataframe thead th {\n        text-align: right;\n    }\n</style>\n<table border=\"1\" class=\"dataframe\">\n  <thead>\n    <tr style=\"text-align: right;\">\n      <th></th>\n      <th>Employee Name</th>\n      <th>Project ID</th>\n      <th>Sub Project ID</th>\n      <th>Activity ID</th>\n      <th>Report Code Name</th>\n      <th>Internal Quantity (Sum)</th>\n      <th>Organization Code</th>\n    </tr>\n  </thead>\n  <tbody>\n    <tr>\n      <th>0</th>\n      <td>ABDULAZİZ ÜÇER</td>\n      <td>GZPTMOD52</td>\n      <td>GGG</td>\n      <td>GGG</td>\n      <td>GENEL</td>\n      <td>1.00</td>\n      <td>810711</td>\n    </tr>\n    <tr>\n      <th>1</th>\n      <td>ABDULAZİZ ÜÇER</td>\n      <td>GZPTMOD52</td>\n      <td>GZPTMOD52</td>\n      <td>GR EKP KBL</td>\n      <td>TASARIM</td>\n      <td>9.50</td>\n      <td>810711</td>\n    </tr>\n    <tr>\n      <th>2</th>\n      <td>ABDULAZİZ ÜÇER</td>\n      <td>GZPTMOD52</td>\n      <td>GGG</td>\n      <td>GGG</td>\n      <td>GENEL</td>\n      <td>1.00</td>\n      <td>810711</td>\n    </tr>\n    <tr>\n      <th>3</th>\n      <td>ABDULAZİZ ÜÇER</td>\n      <td>GZPTMOD52</td>\n      <td>GZPTMOD52</td>\n      <td>GR EKP KBL</td>\n      <td>TASARIM</td>\n      <td>8.00</td>\n      <td>810711</td>\n    </tr>\n    <tr>\n      <th>4</th>\n      <td>ABDULAZİZ ÜÇER</td>\n      <td>GZPTMOD52</td>\n      <td>GGG</td>\n      <td>GGG</td>\n      <td>GENEL</td>\n      <td>0.66</td>\n      <td>810711</td>\n    </tr>\n    <tr>\n      <th>5</th>\n      <td>ABDULAZİZ ÜÇER</td>\n      <td>GZPTMOD52</td>\n      <td>GZPTMOD52</td>\n      <td>GR EKP KBL</td>\n      <td>TASARIM</td>\n      <td>3.75</td>\n      <td>810711</td>\n    </tr>\n    <tr>\n      <th>6</th>\n      <td>ABDULAZİZ ÜÇER</td>\n      <td>GZPTMOD52</td>\n      <td>GGG</td>\n      <td>GGG</td>\n      <td>GENEL</td>\n      <td>1.00</td>\n      <td>810711</td>\n    </tr>\n    <tr>\n      <th>...</th>\n      <td>...</td>\n      <td>...</td>\n      <td>...</td>\n      <td>...</td>\n      <td>...</td>\n      <td>...</td>\n      <td>...</td>\n    </tr>\n    <tr>\n      <th>15146</th>\n      <td>ŞERİFE SENA BOZKURT</td>\n      <td>OMTTZA</td>\n      <td>OMTTZA_ILS</td>\n      <td>SNS_ILS</td>\n      <td>TD and Training- Operator Manual</td>\n      <td>7.25</td>\n      <td>8107046</td>\n    </tr>\n    <tr>\n      <th>15147</th>\n      <td>ŞERİFE SENA BOZKURT</td>\n      <td>OMTTZA</td>\n      <td>GGG</td>\n      <td>GGG</td>\n      <td>GENEL</td>\n      <td>1.50</td>\n      <td>8107046</td>\n    </tr>\n    <tr>\n      <th>15148</th>\n      <td>ŞERİFE SENA BOZKURT</td>\n      <td>OMTTZA</td>\n      <td>OMTTZA_ILS</td>\n      <td>SNS_ILS</td>\n      <td>TD and Training- Operator Manual</td>\n      <td>7.00</td>\n      <td>8107046</td>\n    </tr>\n    <tr>\n      <th>15149</th>\n      <td>ŞERİFE SENA BOZKURT</td>\n      <td>OMTTZA</td>\n      <td>GGG</td>\n      <td>GGG</td>\n      <td>GENEL</td>\n      <td>1.25</td>\n      <td>8107046</td>\n    </tr>\n    <tr>\n      <th>15150</th>\n      <td>ŞERİFE SENA BOZKURT</td>\n      <td>OMTTZA</td>\n      <td>OMTTZA_ILS</td>\n      <td>SNS_ILS</td>\n      <td>TD and Training- Operator Manual</td>\n      <td>7.25</td>\n      <td>8107046</td>\n    </tr>\n    <tr>\n      <th>15151</th>\n      <td>ŞERİFE SENA BOZKURT</td>\n      <td>OMTTZA</td>\n      <td>GGG</td>\n      <td>GGG</td>\n      <td>GENEL</td>\n      <td>1.00</td>\n      <td>8107046</td>\n    </tr>\n    <tr>\n      <th>15152</th>\n      <td>ŞERİFE SENA BOZKURT</td>\n      <td>OMTTZA</td>\n      <td>OMTTZA_ILS</td>\n      <td>SNS_ILS</td>\n      <td>TD and Training- Operator Manual</td>\n      <td>7.50</td>\n      <td>8107046</td>\n    </tr>\n  </tbody>\n</table>\n<p>15153 rows × 7 columns</p>\n</div>"
          },
          "metadata": {}
        }
      ]
    },
    {
      "cell_type": "code",
      "source": [
        "df['İsim'] = df2['Employee Name']\n",
        "df['Project ID'] = df2['Project ID']\n",
        "df['Sub Project ID'] = df2['Sub Project ID']\n",
        "df['Activity ID'] = df2['Activity ID']\n",
        "df['Report Code Name'] = df2['Report Code Name']\n",
        "df['Internal Quantity (Sum)'] = df2['Internal Quantity (Sum)']\n",
        "df['Org Code'] = df2['Organization Code']\n",
        "\n",
        "# IFS'ten gelen excel dosyasındaki verilerin, heatmap içeren excel dosyasına kopyalanması\n",
        "\n",
        "df\n"
      ],
      "metadata": {
        "execution": {
          "iopub.status.busy": "2024-03-14T08:18:00.402785Z",
          "iopub.execute_input": "2024-03-14T08:18:00.40399Z",
          "iopub.status.idle": "2024-03-14T08:18:00.428408Z",
          "shell.execute_reply.started": "2024-03-14T08:18:00.40395Z",
          "shell.execute_reply": "2024-03-14T08:18:00.427282Z"
        },
        "trusted": true,
        "id": "Gg2T-T3Subrj",
        "outputId": "08eae19e-7124-476a-cbdb-2c5ea5367e6c"
      },
      "execution_count": null,
      "outputs": [
        {
          "execution_count": 58,
          "output_type": "execute_result",
          "data": {
            "text/plain": "                      İsim Project ID Sub Project ID Activity ID  \\\n0           ABDULAZİZ ÜÇER  GZPTMOD52            GGG         GGG   \n1           ABDULAZİZ ÜÇER  GZPTMOD52      GZPTMOD52  GR EKP KBL   \n2           ABDULAZİZ ÜÇER  GZPTMOD52            GGG         GGG   \n3           ABDULAZİZ ÜÇER  GZPTMOD52      GZPTMOD52  GR EKP KBL   \n4           ABDULAZİZ ÜÇER  GZPTMOD52            GGG         GGG   \n5           ABDULAZİZ ÜÇER  GZPTMOD52      GZPTMOD52  GR EKP KBL   \n6           ABDULAZİZ ÜÇER  GZPTMOD52            GGG         GGG   \n...                    ...        ...            ...         ...   \n15146  ŞERİFE SENA BOZKURT     OMTTZA     OMTTZA_ILS     SNS_ILS   \n15147  ŞERİFE SENA BOZKURT     OMTTZA            GGG         GGG   \n15148  ŞERİFE SENA BOZKURT     OMTTZA     OMTTZA_ILS     SNS_ILS   \n15149  ŞERİFE SENA BOZKURT     OMTTZA            GGG         GGG   \n15150  ŞERİFE SENA BOZKURT     OMTTZA     OMTTZA_ILS     SNS_ILS   \n15151  ŞERİFE SENA BOZKURT     OMTTZA            GGG         GGG   \n15152  ŞERİFE SENA BOZKURT     OMTTZA     OMTTZA_ILS     SNS_ILS   \n\n                       Report Code Name  Internal Quantity (Sum) Org Code   tt  \n0                                 GENEL                     1.00   810711  NaN  \n1                               TASARIM                     9.50   810711  NaN  \n2                                 GENEL                     1.00   810711  NaN  \n3                               TASARIM                     8.00   810711  NaN  \n4                                 GENEL                     0.66   810711  NaN  \n5                               TASARIM                     3.75   810711  NaN  \n6                                 GENEL                     1.00   810711  NaN  \n...                                 ...                      ...      ...  ...  \n15146  TD and Training- Operator Manual                     7.25  8107046  NaN  \n15147                             GENEL                     1.50  8107046  NaN  \n15148  TD and Training- Operator Manual                     7.00  8107046  NaN  \n15149                             GENEL                     1.25  8107046  NaN  \n15150  TD and Training- Operator Manual                     7.25  8107046  NaN  \n15151                             GENEL                     1.00  8107046  NaN  \n15152  TD and Training- Operator Manual                     7.50  8107046  NaN  \n\n[15153 rows x 8 columns]",
            "text/html": "<div>\n<style scoped>\n    .dataframe tbody tr th:only-of-type {\n        vertical-align: middle;\n    }\n\n    .dataframe tbody tr th {\n        vertical-align: top;\n    }\n\n    .dataframe thead th {\n        text-align: right;\n    }\n</style>\n<table border=\"1\" class=\"dataframe\">\n  <thead>\n    <tr style=\"text-align: right;\">\n      <th></th>\n      <th>İsim</th>\n      <th>Project ID</th>\n      <th>Sub Project ID</th>\n      <th>Activity ID</th>\n      <th>Report Code Name</th>\n      <th>Internal Quantity (Sum)</th>\n      <th>Org Code</th>\n      <th>tt</th>\n    </tr>\n  </thead>\n  <tbody>\n    <tr>\n      <th>0</th>\n      <td>ABDULAZİZ ÜÇER</td>\n      <td>GZPTMOD52</td>\n      <td>GGG</td>\n      <td>GGG</td>\n      <td>GENEL</td>\n      <td>1.00</td>\n      <td>810711</td>\n      <td>NaN</td>\n    </tr>\n    <tr>\n      <th>1</th>\n      <td>ABDULAZİZ ÜÇER</td>\n      <td>GZPTMOD52</td>\n      <td>GZPTMOD52</td>\n      <td>GR EKP KBL</td>\n      <td>TASARIM</td>\n      <td>9.50</td>\n      <td>810711</td>\n      <td>NaN</td>\n    </tr>\n    <tr>\n      <th>2</th>\n      <td>ABDULAZİZ ÜÇER</td>\n      <td>GZPTMOD52</td>\n      <td>GGG</td>\n      <td>GGG</td>\n      <td>GENEL</td>\n      <td>1.00</td>\n      <td>810711</td>\n      <td>NaN</td>\n    </tr>\n    <tr>\n      <th>3</th>\n      <td>ABDULAZİZ ÜÇER</td>\n      <td>GZPTMOD52</td>\n      <td>GZPTMOD52</td>\n      <td>GR EKP KBL</td>\n      <td>TASARIM</td>\n      <td>8.00</td>\n      <td>810711</td>\n      <td>NaN</td>\n    </tr>\n    <tr>\n      <th>4</th>\n      <td>ABDULAZİZ ÜÇER</td>\n      <td>GZPTMOD52</td>\n      <td>GGG</td>\n      <td>GGG</td>\n      <td>GENEL</td>\n      <td>0.66</td>\n      <td>810711</td>\n      <td>NaN</td>\n    </tr>\n    <tr>\n      <th>5</th>\n      <td>ABDULAZİZ ÜÇER</td>\n      <td>GZPTMOD52</td>\n      <td>GZPTMOD52</td>\n      <td>GR EKP KBL</td>\n      <td>TASARIM</td>\n      <td>3.75</td>\n      <td>810711</td>\n      <td>NaN</td>\n    </tr>\n    <tr>\n      <th>6</th>\n      <td>ABDULAZİZ ÜÇER</td>\n      <td>GZPTMOD52</td>\n      <td>GGG</td>\n      <td>GGG</td>\n      <td>GENEL</td>\n      <td>1.00</td>\n      <td>810711</td>\n      <td>NaN</td>\n    </tr>\n    <tr>\n      <th>...</th>\n      <td>...</td>\n      <td>...</td>\n      <td>...</td>\n      <td>...</td>\n      <td>...</td>\n      <td>...</td>\n      <td>...</td>\n      <td>...</td>\n    </tr>\n    <tr>\n      <th>15146</th>\n      <td>ŞERİFE SENA BOZKURT</td>\n      <td>OMTTZA</td>\n      <td>OMTTZA_ILS</td>\n      <td>SNS_ILS</td>\n      <td>TD and Training- Operator Manual</td>\n      <td>7.25</td>\n      <td>8107046</td>\n      <td>NaN</td>\n    </tr>\n    <tr>\n      <th>15147</th>\n      <td>ŞERİFE SENA BOZKURT</td>\n      <td>OMTTZA</td>\n      <td>GGG</td>\n      <td>GGG</td>\n      <td>GENEL</td>\n      <td>1.50</td>\n      <td>8107046</td>\n      <td>NaN</td>\n    </tr>\n    <tr>\n      <th>15148</th>\n      <td>ŞERİFE SENA BOZKURT</td>\n      <td>OMTTZA</td>\n      <td>OMTTZA_ILS</td>\n      <td>SNS_ILS</td>\n      <td>TD and Training- Operator Manual</td>\n      <td>7.00</td>\n      <td>8107046</td>\n      <td>NaN</td>\n    </tr>\n    <tr>\n      <th>15149</th>\n      <td>ŞERİFE SENA BOZKURT</td>\n      <td>OMTTZA</td>\n      <td>GGG</td>\n      <td>GGG</td>\n      <td>GENEL</td>\n      <td>1.25</td>\n      <td>8107046</td>\n      <td>NaN</td>\n    </tr>\n    <tr>\n      <th>15150</th>\n      <td>ŞERİFE SENA BOZKURT</td>\n      <td>OMTTZA</td>\n      <td>OMTTZA_ILS</td>\n      <td>SNS_ILS</td>\n      <td>TD and Training- Operator Manual</td>\n      <td>7.25</td>\n      <td>8107046</td>\n      <td>NaN</td>\n    </tr>\n    <tr>\n      <th>15151</th>\n      <td>ŞERİFE SENA BOZKURT</td>\n      <td>OMTTZA</td>\n      <td>GGG</td>\n      <td>GGG</td>\n      <td>GENEL</td>\n      <td>1.00</td>\n      <td>8107046</td>\n      <td>NaN</td>\n    </tr>\n    <tr>\n      <th>15152</th>\n      <td>ŞERİFE SENA BOZKURT</td>\n      <td>OMTTZA</td>\n      <td>OMTTZA_ILS</td>\n      <td>SNS_ILS</td>\n      <td>TD and Training- Operator Manual</td>\n      <td>7.50</td>\n      <td>8107046</td>\n      <td>NaN</td>\n    </tr>\n  </tbody>\n</table>\n<p>15153 rows × 8 columns</p>\n</div>"
          },
          "metadata": {}
        }
      ]
    },
    {
      "cell_type": "markdown",
      "source": [
        "**Code1 Uygulaması**"
      ],
      "metadata": {
        "id": "4Gaw0AR1ubrk"
      }
    },
    {
      "cell_type": "code",
      "source": [
        "df = df[df.iloc[:, 5] != \"0\"]\n",
        "# 6. sütununda (F sütunu) 0 değeri olan satırları siler"
      ],
      "metadata": {
        "execution": {
          "iopub.status.busy": "2024-03-14T08:10:44.421857Z",
          "iopub.execute_input": "2024-03-14T08:10:44.42229Z",
          "iopub.status.idle": "2024-03-14T08:10:44.434012Z",
          "shell.execute_reply.started": "2024-03-14T08:10:44.422256Z",
          "shell.execute_reply": "2024-03-14T08:10:44.43284Z"
        },
        "trusted": true,
        "id": "bW8tNfTwubrl"
      },
      "execution_count": null,
      "outputs": []
    },
    {
      "cell_type": "code",
      "source": [
        "df.info()"
      ],
      "metadata": {
        "execution": {
          "iopub.status.busy": "2024-03-14T08:10:49.260488Z",
          "iopub.execute_input": "2024-03-14T08:10:49.260921Z",
          "iopub.status.idle": "2024-03-14T08:10:49.277984Z",
          "shell.execute_reply.started": "2024-03-14T08:10:49.260882Z",
          "shell.execute_reply": "2024-03-14T08:10:49.277096Z"
        },
        "trusted": true,
        "id": "zX1wpQmFubrm",
        "outputId": "56163196-49e1-4647-c3f0-a57f22b58732"
      },
      "execution_count": null,
      "outputs": [
        {
          "name": "stdout",
          "text": "<class 'pandas.core.frame.DataFrame'>\nIndex: 15153 entries, 0 to 15152\nData columns (total 8 columns):\n #   Column                   Non-Null Count  Dtype  \n---  ------                   --------------  -----  \n 0   İsim                     15153 non-null  object \n 1   Project ID               15153 non-null  object \n 2   Sub Project ID           15153 non-null  object \n 3   Activity ID              15153 non-null  object \n 4   Report Code Name         15153 non-null  object \n 5   Internal Quantity (Sum)  15153 non-null  float64\n 6   Org Code                 15153 non-null  object \n 7   tt                       0 non-null      object \ndtypes: float64(1), object(7)\nmemory usage: 1.0+ MB\n",
          "output_type": "stream"
        }
      ]
    },
    {
      "cell_type": "code",
      "source": [
        "silinecekler = [\"GGG\", \"PROJ MNGMT\",\"CONTIMPRV\",\"PROG_MNGMT\",\"TSRGELYNTM\",\"PLMSYSTEMS\",\"TKNKEGITIM\",\"BILMSEL ET\"]\n",
        "# Silinmesi gereken kelimeleri içeren liste\n",
        "\n",
        "for col in [2, 3]:\n",
        "    df = df[~df.iloc[:, col].isin(silinecekler)]\n",
        "# 3. ve 4. sütununda (Project ve SubProject) silinecekler listesindeki değerlerden biri olan satırları komple siler.\n"
      ],
      "metadata": {
        "execution": {
          "iopub.status.busy": "2024-03-14T08:12:11.228414Z",
          "iopub.execute_input": "2024-03-14T08:12:11.228774Z",
          "iopub.status.idle": "2024-03-14T08:12:11.239638Z",
          "shell.execute_reply.started": "2024-03-14T08:12:11.228746Z",
          "shell.execute_reply": "2024-03-14T08:12:11.238743Z"
        },
        "trusted": true,
        "id": "o5qGmHb2ubrm"
      },
      "execution_count": null,
      "outputs": []
    },
    {
      "cell_type": "code",
      "source": [
        "df.info()"
      ],
      "metadata": {
        "execution": {
          "iopub.status.busy": "2024-03-14T08:12:15.739067Z",
          "iopub.execute_input": "2024-03-14T08:12:15.740283Z",
          "iopub.status.idle": "2024-03-14T08:12:15.757352Z",
          "shell.execute_reply.started": "2024-03-14T08:12:15.740235Z",
          "shell.execute_reply": "2024-03-14T08:12:15.755956Z"
        },
        "trusted": true,
        "id": "l001I4-bubrm",
        "outputId": "91d4c513-b25c-415a-cc06-fb0d221c7985"
      },
      "execution_count": null,
      "outputs": [
        {
          "name": "stdout",
          "text": "<class 'pandas.core.frame.DataFrame'>\nIndex: 9185 entries, 1 to 15152\nData columns (total 8 columns):\n #   Column                   Non-Null Count  Dtype  \n---  ------                   --------------  -----  \n 0   İsim                     9185 non-null   object \n 1   Project ID               9185 non-null   object \n 2   Sub Project ID           9185 non-null   object \n 3   Activity ID              9185 non-null   object \n 4   Report Code Name         9185 non-null   object \n 5   Internal Quantity (Sum)  9185 non-null   float64\n 6   Org Code                 9185 non-null   object \n 7   tt                       0 non-null      object \ndtypes: float64(1), object(7)\nmemory usage: 645.8+ KB\n",
          "output_type": "stream"
        }
      ]
    },
    {
      "cell_type": "code",
      "source": [
        "silinecekler2 = [\"ISGLSTFUAR\", \"IZIN\", \"KAPSAMDISI\"]\n",
        "df = df[~df.iloc[:, 1].isin(silinecekler2)]\n",
        "# 2. sütununda ISGLSTFUAR, IZIN veya KAPSAMDISI yazan satırları siler."
      ],
      "metadata": {
        "execution": {
          "iopub.status.busy": "2024-03-14T08:12:46.643148Z",
          "iopub.execute_input": "2024-03-14T08:12:46.643545Z",
          "iopub.status.idle": "2024-03-14T08:12:46.651338Z",
          "shell.execute_reply.started": "2024-03-14T08:12:46.643513Z",
          "shell.execute_reply": "2024-03-14T08:12:46.649985Z"
        },
        "trusted": true,
        "id": "U7A_lroFubrm"
      },
      "execution_count": null,
      "outputs": []
    },
    {
      "cell_type": "code",
      "source": [
        "df.info()"
      ],
      "metadata": {
        "execution": {
          "iopub.status.busy": "2024-03-14T08:12:47.668218Z",
          "iopub.execute_input": "2024-03-14T08:12:47.668602Z",
          "iopub.status.idle": "2024-03-14T08:12:47.684133Z",
          "shell.execute_reply.started": "2024-03-14T08:12:47.66857Z",
          "shell.execute_reply": "2024-03-14T08:12:47.682974Z"
        },
        "trusted": true,
        "id": "hQHAziDyubrn",
        "outputId": "b79579fa-0621-45fa-c2c7-490e57d23b36"
      },
      "execution_count": null,
      "outputs": [
        {
          "name": "stdout",
          "text": "<class 'pandas.core.frame.DataFrame'>\nIndex: 8754 entries, 1 to 15152\nData columns (total 8 columns):\n #   Column                   Non-Null Count  Dtype  \n---  ------                   --------------  -----  \n 0   İsim                     8754 non-null   object \n 1   Project ID               8754 non-null   object \n 2   Sub Project ID           8754 non-null   object \n 3   Activity ID              8754 non-null   object \n 4   Report Code Name         8754 non-null   object \n 5   Internal Quantity (Sum)  8754 non-null   float64\n 6   Org Code                 8754 non-null   object \n 7   tt                       0 non-null      object \ndtypes: float64(1), object(7)\nmemory usage: 615.5+ KB\n",
          "output_type": "stream"
        }
      ]
    },
    {
      "cell_type": "code",
      "source": [
        "def update_column_5(value):\n",
        "    if value.startswith('ILS_HMI'):\n",
        "        return 'ILS_HMI'\n",
        "    elif value.startswith('ILS_MNGMNT'):\n",
        "        return 'ILS_MNGMNT'\n",
        "    elif value.startswith('ILS_US'):\n",
        "        return 'ILS_US'\n",
        "    elif value.startswith('ILS_TR'):\n",
        "        return 'ILS_TR'\n",
        "    elif value.startswith('ILS_REL'):\n",
        "        return 'ILS_REL'\n",
        "    elif value.startswith('ILS_TD'):\n",
        "        return 'ILS_TD'\n",
        "    elif value.startswith('ILS_MAINT'):\n",
        "        return 'ILS_MAINT'\n",
        "    elif value.endswith('- DIS GOREV'):\n",
        "        return value[:-12]\n",
        "    elif value.endswith('_DISGOREV'):\n",
        "        return value[:-9]\n",
        "    elif value.startswith('DIS GOREV -'):\n",
        "        return value[11:]\n",
        "    value = value.strip()  # Baştaki ve sondaki boşlukları siler\n",
        "    return value\n",
        "df['Report Code Name'] = df['Report Code Name'].apply(update_column_5)"
      ],
      "metadata": {
        "execution": {
          "iopub.status.busy": "2024-03-13T13:40:19.070062Z",
          "iopub.execute_input": "2024-03-13T13:40:19.071242Z",
          "iopub.status.idle": "2024-03-13T13:40:19.098466Z",
          "shell.execute_reply.started": "2024-03-13T13:40:19.071192Z",
          "shell.execute_reply": "2024-03-13T13:40:19.097165Z"
        },
        "trusted": true,
        "id": "nWcRvJ-Cubrn"
      },
      "execution_count": null,
      "outputs": []
    },
    {
      "cell_type": "code",
      "source": [
        "def update_column_7(value):\n",
        "    value = str(value)  # Değerler string'e çevrilir (apply fonksiyonu sadece stringlerde çalışmaktadır)\n",
        "    if value.startswith('810'):\n",
        "        return 'fnss'\n",
        "    elif value.startswith('8750403'):\n",
        "        return 'fnss'\n",
        "    return value\n",
        "\n",
        "df['Org Code'] = df['Org Code'].apply(update_column_7)"
      ],
      "metadata": {
        "execution": {
          "iopub.status.busy": "2024-03-13T13:40:19.187692Z",
          "iopub.execute_input": "2024-03-13T13:40:19.188961Z",
          "iopub.status.idle": "2024-03-13T13:40:19.203129Z",
          "shell.execute_reply.started": "2024-03-13T13:40:19.188908Z",
          "shell.execute_reply": "2024-03-13T13:40:19.201971Z"
        },
        "trusted": true,
        "id": "BNYA2P84ubrn"
      },
      "execution_count": null,
      "outputs": []
    },
    {
      "cell_type": "code",
      "source": [
        "df.head(15)"
      ],
      "metadata": {
        "execution": {
          "iopub.status.busy": "2024-03-13T13:40:21.452939Z",
          "iopub.execute_input": "2024-03-13T13:40:21.45334Z",
          "iopub.status.idle": "2024-03-13T13:40:21.472855Z",
          "shell.execute_reply.started": "2024-03-13T13:40:21.453309Z",
          "shell.execute_reply": "2024-03-13T13:40:21.471654Z"
        },
        "trusted": true,
        "id": "eX9Mkay_ubrn",
        "outputId": "57740e5f-85dc-4379-c3c5-12562faed599"
      },
      "execution_count": null,
      "outputs": [
        {
          "execution_count": 22,
          "output_type": "execute_result",
          "data": {
            "text/plain": "              İsim Project ID Sub Project ID Activity ID Report Code Name  \\\n1   ABDULAZİZ ÜÇER  GZPTMOD52      GZPTMOD52  GR EKP KBL          TASARIM   \n3   ABDULAZİZ ÜÇER  GZPTMOD52      GZPTMOD52  GR EKP KBL          TASARIM   \n5   ABDULAZİZ ÜÇER  GZPTMOD52      GZPTMOD52  GR EKP KBL          TASARIM   \n7   ABDULAZİZ ÜÇER  GZPTMOD52      GZPTMOD52  GR EKP KBL          TASARIM   \n9   ABDULAZİZ ÜÇER  GZPTMOD52      GZPTMOD52  GR EKP KBL          TASARIM   \n11  ABDULAZİZ ÜÇER  GZPTMOD52      GZPTMOD52  GR EKP KBL          TASARIM   \n13  ABDULAZİZ ÜÇER  GZPTMOD52      GZPTMOD52  GR EKP KBL          TASARIM   \n15  ABDULAZİZ ÜÇER  GZPTMOD52      GZPTMOD52  GR EKP KBL          TASARIM   \n17  ABDULAZİZ ÜÇER  GZPTMOD52      GZPTMOD52  GR EKP KBL          TASARIM   \n19  ABDULAZİZ ÜÇER  GZPTMOD52      GZPTMOD52  GR EKP KBL          TASARIM   \n21  ABDULAZİZ ÜÇER  GZPTMOD52      GZPTMOD52  GR EKP KBL          TASARIM   \n23  ABDULAZİZ ÜÇER  GZPTMOD52      GZPTMOD52  GR EKP KBL          TASARIM   \n25  ABDULAZİZ ÜÇER  GZPTMOD52      GZPTMOD52  GR EKP KBL          TASARIM   \n27  ABDULAZİZ ÜÇER  GZPTMOD52      GZPTMOD52  GR EKP KBL          TASARIM   \n29  ABDULAZİZ ÜÇER  GZPTMOD52      GZPTMOD52  GR EKP KBL          TASARIM   \n\n    Internal Quantity (Sum) Org Code   tt  \n1                      9.50     fnss  NaN  \n3                      8.00     fnss  NaN  \n5                      3.75     fnss  NaN  \n7                      7.50     fnss  NaN  \n9                      7.50     fnss  NaN  \n11                     7.50     fnss  NaN  \n13                     7.50     fnss  NaN  \n15                     7.00     fnss  NaN  \n17                     7.50     fnss  NaN  \n19                     7.50     fnss  NaN  \n21                     7.50     fnss  NaN  \n23                     7.50     fnss  NaN  \n25                     7.00     fnss  NaN  \n27                     7.50     fnss  NaN  \n29                     7.50     fnss  NaN  ",
            "text/html": "<div>\n<style scoped>\n    .dataframe tbody tr th:only-of-type {\n        vertical-align: middle;\n    }\n\n    .dataframe tbody tr th {\n        vertical-align: top;\n    }\n\n    .dataframe thead th {\n        text-align: right;\n    }\n</style>\n<table border=\"1\" class=\"dataframe\">\n  <thead>\n    <tr style=\"text-align: right;\">\n      <th></th>\n      <th>İsim</th>\n      <th>Project ID</th>\n      <th>Sub Project ID</th>\n      <th>Activity ID</th>\n      <th>Report Code Name</th>\n      <th>Internal Quantity (Sum)</th>\n      <th>Org Code</th>\n      <th>tt</th>\n    </tr>\n  </thead>\n  <tbody>\n    <tr>\n      <th>1</th>\n      <td>ABDULAZİZ ÜÇER</td>\n      <td>GZPTMOD52</td>\n      <td>GZPTMOD52</td>\n      <td>GR EKP KBL</td>\n      <td>TASARIM</td>\n      <td>9.50</td>\n      <td>fnss</td>\n      <td>NaN</td>\n    </tr>\n    <tr>\n      <th>3</th>\n      <td>ABDULAZİZ ÜÇER</td>\n      <td>GZPTMOD52</td>\n      <td>GZPTMOD52</td>\n      <td>GR EKP KBL</td>\n      <td>TASARIM</td>\n      <td>8.00</td>\n      <td>fnss</td>\n      <td>NaN</td>\n    </tr>\n    <tr>\n      <th>5</th>\n      <td>ABDULAZİZ ÜÇER</td>\n      <td>GZPTMOD52</td>\n      <td>GZPTMOD52</td>\n      <td>GR EKP KBL</td>\n      <td>TASARIM</td>\n      <td>3.75</td>\n      <td>fnss</td>\n      <td>NaN</td>\n    </tr>\n    <tr>\n      <th>7</th>\n      <td>ABDULAZİZ ÜÇER</td>\n      <td>GZPTMOD52</td>\n      <td>GZPTMOD52</td>\n      <td>GR EKP KBL</td>\n      <td>TASARIM</td>\n      <td>7.50</td>\n      <td>fnss</td>\n      <td>NaN</td>\n    </tr>\n    <tr>\n      <th>9</th>\n      <td>ABDULAZİZ ÜÇER</td>\n      <td>GZPTMOD52</td>\n      <td>GZPTMOD52</td>\n      <td>GR EKP KBL</td>\n      <td>TASARIM</td>\n      <td>7.50</td>\n      <td>fnss</td>\n      <td>NaN</td>\n    </tr>\n    <tr>\n      <th>11</th>\n      <td>ABDULAZİZ ÜÇER</td>\n      <td>GZPTMOD52</td>\n      <td>GZPTMOD52</td>\n      <td>GR EKP KBL</td>\n      <td>TASARIM</td>\n      <td>7.50</td>\n      <td>fnss</td>\n      <td>NaN</td>\n    </tr>\n    <tr>\n      <th>13</th>\n      <td>ABDULAZİZ ÜÇER</td>\n      <td>GZPTMOD52</td>\n      <td>GZPTMOD52</td>\n      <td>GR EKP KBL</td>\n      <td>TASARIM</td>\n      <td>7.50</td>\n      <td>fnss</td>\n      <td>NaN</td>\n    </tr>\n    <tr>\n      <th>15</th>\n      <td>ABDULAZİZ ÜÇER</td>\n      <td>GZPTMOD52</td>\n      <td>GZPTMOD52</td>\n      <td>GR EKP KBL</td>\n      <td>TASARIM</td>\n      <td>7.00</td>\n      <td>fnss</td>\n      <td>NaN</td>\n    </tr>\n    <tr>\n      <th>17</th>\n      <td>ABDULAZİZ ÜÇER</td>\n      <td>GZPTMOD52</td>\n      <td>GZPTMOD52</td>\n      <td>GR EKP KBL</td>\n      <td>TASARIM</td>\n      <td>7.50</td>\n      <td>fnss</td>\n      <td>NaN</td>\n    </tr>\n    <tr>\n      <th>19</th>\n      <td>ABDULAZİZ ÜÇER</td>\n      <td>GZPTMOD52</td>\n      <td>GZPTMOD52</td>\n      <td>GR EKP KBL</td>\n      <td>TASARIM</td>\n      <td>7.50</td>\n      <td>fnss</td>\n      <td>NaN</td>\n    </tr>\n    <tr>\n      <th>21</th>\n      <td>ABDULAZİZ ÜÇER</td>\n      <td>GZPTMOD52</td>\n      <td>GZPTMOD52</td>\n      <td>GR EKP KBL</td>\n      <td>TASARIM</td>\n      <td>7.50</td>\n      <td>fnss</td>\n      <td>NaN</td>\n    </tr>\n    <tr>\n      <th>23</th>\n      <td>ABDULAZİZ ÜÇER</td>\n      <td>GZPTMOD52</td>\n      <td>GZPTMOD52</td>\n      <td>GR EKP KBL</td>\n      <td>TASARIM</td>\n      <td>7.50</td>\n      <td>fnss</td>\n      <td>NaN</td>\n    </tr>\n    <tr>\n      <th>25</th>\n      <td>ABDULAZİZ ÜÇER</td>\n      <td>GZPTMOD52</td>\n      <td>GZPTMOD52</td>\n      <td>GR EKP KBL</td>\n      <td>TASARIM</td>\n      <td>7.00</td>\n      <td>fnss</td>\n      <td>NaN</td>\n    </tr>\n    <tr>\n      <th>27</th>\n      <td>ABDULAZİZ ÜÇER</td>\n      <td>GZPTMOD52</td>\n      <td>GZPTMOD52</td>\n      <td>GR EKP KBL</td>\n      <td>TASARIM</td>\n      <td>7.50</td>\n      <td>fnss</td>\n      <td>NaN</td>\n    </tr>\n    <tr>\n      <th>29</th>\n      <td>ABDULAZİZ ÜÇER</td>\n      <td>GZPTMOD52</td>\n      <td>GZPTMOD52</td>\n      <td>GR EKP KBL</td>\n      <td>TASARIM</td>\n      <td>7.50</td>\n      <td>fnss</td>\n      <td>NaN</td>\n    </tr>\n  </tbody>\n</table>\n</div>"
          },
          "metadata": {}
        }
      ]
    },
    {
      "cell_type": "markdown",
      "source": [
        "**Code2 Uygulaması**\n"
      ],
      "metadata": {
        "id": "wHZ6FL_Iubrn"
      }
    },
    {
      "cell_type": "code",
      "source": [
        "df[\"tt\"] = \"NaN\" # tt adında sütun oluşturulur\n",
        "df"
      ],
      "metadata": {
        "execution": {
          "iopub.status.busy": "2024-03-13T13:40:24.154416Z",
          "iopub.execute_input": "2024-03-13T13:40:24.154797Z",
          "iopub.status.idle": "2024-03-13T13:40:24.174594Z",
          "shell.execute_reply.started": "2024-03-13T13:40:24.154755Z",
          "shell.execute_reply": "2024-03-13T13:40:24.173472Z"
        },
        "trusted": true,
        "id": "S8-jZImoubro",
        "outputId": "f80568a2-ce22-4e4b-a8c0-10077488d4e0"
      },
      "execution_count": null,
      "outputs": [
        {
          "execution_count": 23,
          "output_type": "execute_result",
          "data": {
            "text/plain": "                      İsim Project ID Sub Project ID Activity ID  \\\n1           ABDULAZİZ ÜÇER  GZPTMOD52      GZPTMOD52  GR EKP KBL   \n3           ABDULAZİZ ÜÇER  GZPTMOD52      GZPTMOD52  GR EKP KBL   \n5           ABDULAZİZ ÜÇER  GZPTMOD52      GZPTMOD52  GR EKP KBL   \n7           ABDULAZİZ ÜÇER  GZPTMOD52      GZPTMOD52  GR EKP KBL   \n9           ABDULAZİZ ÜÇER  GZPTMOD52      GZPTMOD52  GR EKP KBL   \n11          ABDULAZİZ ÜÇER  GZPTMOD52      GZPTMOD52  GR EKP KBL   \n13          ABDULAZİZ ÜÇER  GZPTMOD52      GZPTMOD52  GR EKP KBL   \n...                    ...        ...            ...         ...   \n15140  ŞERİFE SENA BOZKURT     OMTTZA     OMTTZA_ILS     SNS_ILS   \n15142  ŞERİFE SENA BOZKURT     OMTTZA     OMTTZA_ILS     SNS_ILS   \n15144  ŞERİFE SENA BOZKURT     OMTTZA     OMTTZA_ILS     SNS_ILS   \n15146  ŞERİFE SENA BOZKURT     OMTTZA     OMTTZA_ILS     SNS_ILS   \n15148  ŞERİFE SENA BOZKURT     OMTTZA     OMTTZA_ILS     SNS_ILS   \n15150  ŞERİFE SENA BOZKURT     OMTTZA     OMTTZA_ILS     SNS_ILS   \n15152  ŞERİFE SENA BOZKURT     OMTTZA     OMTTZA_ILS     SNS_ILS   \n\n                       Report Code Name  Internal Quantity (Sum) Org Code   tt  \n1                               TASARIM                     9.50     fnss  NaN  \n3                               TASARIM                     8.00     fnss  NaN  \n5                               TASARIM                     3.75     fnss  NaN  \n7                               TASARIM                     7.50     fnss  NaN  \n9                               TASARIM                     7.50     fnss  NaN  \n11                              TASARIM                     7.50     fnss  NaN  \n13                              TASARIM                     7.50     fnss  NaN  \n...                                 ...                      ...      ...  ...  \n15140  TD and Training- Operator Manual                     7.25     fnss  NaN  \n15142  TD and Training- Operator Manual                     7.50     fnss  NaN  \n15144  TD and Training- Operator Manual                     7.25     fnss  NaN  \n15146  TD and Training- Operator Manual                     7.25     fnss  NaN  \n15148  TD and Training- Operator Manual                     7.00     fnss  NaN  \n15150  TD and Training- Operator Manual                     7.25     fnss  NaN  \n15152  TD and Training- Operator Manual                     7.50     fnss  NaN  \n\n[8754 rows x 8 columns]",
            "text/html": "<div>\n<style scoped>\n    .dataframe tbody tr th:only-of-type {\n        vertical-align: middle;\n    }\n\n    .dataframe tbody tr th {\n        vertical-align: top;\n    }\n\n    .dataframe thead th {\n        text-align: right;\n    }\n</style>\n<table border=\"1\" class=\"dataframe\">\n  <thead>\n    <tr style=\"text-align: right;\">\n      <th></th>\n      <th>İsim</th>\n      <th>Project ID</th>\n      <th>Sub Project ID</th>\n      <th>Activity ID</th>\n      <th>Report Code Name</th>\n      <th>Internal Quantity (Sum)</th>\n      <th>Org Code</th>\n      <th>tt</th>\n    </tr>\n  </thead>\n  <tbody>\n    <tr>\n      <th>1</th>\n      <td>ABDULAZİZ ÜÇER</td>\n      <td>GZPTMOD52</td>\n      <td>GZPTMOD52</td>\n      <td>GR EKP KBL</td>\n      <td>TASARIM</td>\n      <td>9.50</td>\n      <td>fnss</td>\n      <td>NaN</td>\n    </tr>\n    <tr>\n      <th>3</th>\n      <td>ABDULAZİZ ÜÇER</td>\n      <td>GZPTMOD52</td>\n      <td>GZPTMOD52</td>\n      <td>GR EKP KBL</td>\n      <td>TASARIM</td>\n      <td>8.00</td>\n      <td>fnss</td>\n      <td>NaN</td>\n    </tr>\n    <tr>\n      <th>5</th>\n      <td>ABDULAZİZ ÜÇER</td>\n      <td>GZPTMOD52</td>\n      <td>GZPTMOD52</td>\n      <td>GR EKP KBL</td>\n      <td>TASARIM</td>\n      <td>3.75</td>\n      <td>fnss</td>\n      <td>NaN</td>\n    </tr>\n    <tr>\n      <th>7</th>\n      <td>ABDULAZİZ ÜÇER</td>\n      <td>GZPTMOD52</td>\n      <td>GZPTMOD52</td>\n      <td>GR EKP KBL</td>\n      <td>TASARIM</td>\n      <td>7.50</td>\n      <td>fnss</td>\n      <td>NaN</td>\n    </tr>\n    <tr>\n      <th>9</th>\n      <td>ABDULAZİZ ÜÇER</td>\n      <td>GZPTMOD52</td>\n      <td>GZPTMOD52</td>\n      <td>GR EKP KBL</td>\n      <td>TASARIM</td>\n      <td>7.50</td>\n      <td>fnss</td>\n      <td>NaN</td>\n    </tr>\n    <tr>\n      <th>11</th>\n      <td>ABDULAZİZ ÜÇER</td>\n      <td>GZPTMOD52</td>\n      <td>GZPTMOD52</td>\n      <td>GR EKP KBL</td>\n      <td>TASARIM</td>\n      <td>7.50</td>\n      <td>fnss</td>\n      <td>NaN</td>\n    </tr>\n    <tr>\n      <th>13</th>\n      <td>ABDULAZİZ ÜÇER</td>\n      <td>GZPTMOD52</td>\n      <td>GZPTMOD52</td>\n      <td>GR EKP KBL</td>\n      <td>TASARIM</td>\n      <td>7.50</td>\n      <td>fnss</td>\n      <td>NaN</td>\n    </tr>\n    <tr>\n      <th>...</th>\n      <td>...</td>\n      <td>...</td>\n      <td>...</td>\n      <td>...</td>\n      <td>...</td>\n      <td>...</td>\n      <td>...</td>\n      <td>...</td>\n    </tr>\n    <tr>\n      <th>15140</th>\n      <td>ŞERİFE SENA BOZKURT</td>\n      <td>OMTTZA</td>\n      <td>OMTTZA_ILS</td>\n      <td>SNS_ILS</td>\n      <td>TD and Training- Operator Manual</td>\n      <td>7.25</td>\n      <td>fnss</td>\n      <td>NaN</td>\n    </tr>\n    <tr>\n      <th>15142</th>\n      <td>ŞERİFE SENA BOZKURT</td>\n      <td>OMTTZA</td>\n      <td>OMTTZA_ILS</td>\n      <td>SNS_ILS</td>\n      <td>TD and Training- Operator Manual</td>\n      <td>7.50</td>\n      <td>fnss</td>\n      <td>NaN</td>\n    </tr>\n    <tr>\n      <th>15144</th>\n      <td>ŞERİFE SENA BOZKURT</td>\n      <td>OMTTZA</td>\n      <td>OMTTZA_ILS</td>\n      <td>SNS_ILS</td>\n      <td>TD and Training- Operator Manual</td>\n      <td>7.25</td>\n      <td>fnss</td>\n      <td>NaN</td>\n    </tr>\n    <tr>\n      <th>15146</th>\n      <td>ŞERİFE SENA BOZKURT</td>\n      <td>OMTTZA</td>\n      <td>OMTTZA_ILS</td>\n      <td>SNS_ILS</td>\n      <td>TD and Training- Operator Manual</td>\n      <td>7.25</td>\n      <td>fnss</td>\n      <td>NaN</td>\n    </tr>\n    <tr>\n      <th>15148</th>\n      <td>ŞERİFE SENA BOZKURT</td>\n      <td>OMTTZA</td>\n      <td>OMTTZA_ILS</td>\n      <td>SNS_ILS</td>\n      <td>TD and Training- Operator Manual</td>\n      <td>7.00</td>\n      <td>fnss</td>\n      <td>NaN</td>\n    </tr>\n    <tr>\n      <th>15150</th>\n      <td>ŞERİFE SENA BOZKURT</td>\n      <td>OMTTZA</td>\n      <td>OMTTZA_ILS</td>\n      <td>SNS_ILS</td>\n      <td>TD and Training- Operator Manual</td>\n      <td>7.25</td>\n      <td>fnss</td>\n      <td>NaN</td>\n    </tr>\n    <tr>\n      <th>15152</th>\n      <td>ŞERİFE SENA BOZKURT</td>\n      <td>OMTTZA</td>\n      <td>OMTTZA_ILS</td>\n      <td>SNS_ILS</td>\n      <td>TD and Training- Operator Manual</td>\n      <td>7.50</td>\n      <td>fnss</td>\n      <td>NaN</td>\n    </tr>\n  </tbody>\n</table>\n<p>8754 rows × 8 columns</p>\n</div>"
          },
          "metadata": {}
        }
      ]
    },
    {
      "cell_type": "code",
      "source": [
        "for index in reversed(df.index):  # DataFrame indeksleri üzerinde tersine iterasyon\n",
        "    row = df.loc[index]  # O anki satırın verilerini almak\n",
        "    # Sütun değerlerini çekelim\n",
        "    project_id = row['Project ID']\n",
        "    sub_project_id = row['Sub Project ID']\n",
        "    activity_id = row['Activity ID']\n",
        "    report_code_name = row['Report Code Name']\n",
        "    new_value = ''\n",
        "\n",
        "    # Koşullar ve karşılık gelen formatlamalar\n",
        "    if activity_id == \"SYSDETAILD\":\n",
        "        if project_id == \"AV8\":\n",
        "            new_value = f\"{project_id}_{sub_project_id}{activity_id}_{report_code_name}\"\n",
        "        else:\n",
        "            new_value = f\"{sub_project_id}{activity_id}_{report_code_name}\"\n",
        "    elif project_id == \"AV8\" and sub_project_id == \"SYSDETAILD\":\n",
        "        new_value = f\"{project_id}_{activity_id}{sub_project_id}_{report_code_name}\"\n",
        "    elif project_id == \"AV8\" and activity_id != \"SYSDETAILD\":\n",
        "        if sub_project_id in [\"AHRV\", \"CONFIG MGT\", \"ACV\", \"IFV RCWS\", \"IFV25\"]:\n",
        "            new_value = f\"{project_id}_{sub_project_id}{activity_id}\"\n",
        "        elif sub_project_id == \"ILS\":\n",
        "            new_value = f\"{project_id}_{sub_project_id}{activity_id}{report_code_name}\"\n",
        "        elif sub_project_id == \"PROJ MNGMT\":\n",
        "            new_value = f\"{project_id}_{activity_id}\"\n",
        "        elif activity_id == \"SYSTEM ENG\":\n",
        "            new_value = f\"{project_id}_{sub_project_id}\"\n",
        "        elif activity_id == \"SURV\":\n",
        "            new_value = f\"{project_id}_{activity_id}{sub_project_id}\"\n",
        "        elif activity_id in [\"AHRV\", \"ACV\", \"IFV RCWS\", \"IFV25\", \"ATGW\", \"AVS\"]:\n",
        "            new_value = f\"{project_id}_{activity_id}{sub_project_id}\"\n",
        "        else:\n",
        "            new_value = f\"{sub_project_id}{activity_id}\"\n",
        "    elif project_id == \"STA_LD_SBT\" and sub_project_id == \"STA_LD_DSG\":\n",
        "        new_value = f\"{activity_id}{report_code_name}\"\n",
        "    elif sub_project_id == \"PM_ENG_SUP\":\n",
        "        new_value = f\"{project_id}{activity_id}\"\n",
        "    elif project_id in [\"CONCEPT22\", \"CONCEPT23\"]:\n",
        "        new_value = f\"{project_id}{activity_id}\"\n",
        "    elif project_id == \"ADNAN_POC\" and sub_project_id == \"PROG_MNGMT\":\n",
        "        new_value = f\"{project_id}_{activity_id}\"\n",
        "    elif sub_project_id == \"INDMT18ILS\":\n",
        "        new_value = f\"{sub_project_id}{activity_id}_{report_code_name}\"\n",
        "    elif project_id == \"IPO_KVRMSL\":\n",
        "        new_value = f\"{project_id}{sub_project_id}\"\n",
        "    elif project_id == \"KORKUTS\":\n",
        "        if sub_project_id in [\"ELD\", \"CONFIG MGT\"]:\n",
        "            new_value = f\"{project_id}_{sub_project_id}{activity_id}\"\n",
        "        else:\n",
        "            new_value = f\"{project_id}{sub_project_id}\"\n",
        "    elif project_id in [\"LOCALARMST\", \"LOCALSERVO\", \"M113_RMT\", \"MINEMAT\", \"MINSECTEST\", \"MOT_CONT\"]:\n",
        "        new_value = f\"{project_id}{sub_project_id}\"\n",
        "    elif sub_project_id.endswith(\"ILS\") and project_id != \"AV8\":\n",
        "        new_value = f\"{sub_project_id}{activity_id}_{report_code_name}\"\n",
        "    elif project_id == \"SPDSYS\":\n",
        "        if sub_project_id == \"SPD_SYS\":\n",
        "            new_value = f\"{project_id}{activity_id}\"\n",
        "        elif sub_project_id == \"STA_LD_DSG\":\n",
        "            new_value = f\"{activity_id}{report_code_name}\"\n",
        "    else:\n",
        "        new_value = f\"{sub_project_id}{activity_id}\"\n",
        "\n",
        "    df.at[index, 'tt'] = new_value"
      ],
      "metadata": {
        "execution": {
          "iopub.status.busy": "2024-03-13T13:43:20.184563Z",
          "iopub.execute_input": "2024-03-13T13:43:20.184947Z",
          "iopub.status.idle": "2024-03-13T13:43:21.291929Z",
          "shell.execute_reply.started": "2024-03-13T13:43:20.184918Z",
          "shell.execute_reply": "2024-03-13T13:43:21.290746Z"
        },
        "trusted": true,
        "id": "fAUl-wrvubro"
      },
      "execution_count": null,
      "outputs": []
    },
    {
      "cell_type": "code",
      "source": [
        "df.to_excel('guncellenmis_dosya.xlsx', index=False)"
      ],
      "metadata": {
        "execution": {
          "iopub.status.busy": "2024-03-13T13:43:32.546161Z",
          "iopub.execute_input": "2024-03-13T13:43:32.546537Z",
          "iopub.status.idle": "2024-03-13T13:43:35.250646Z",
          "shell.execute_reply.started": "2024-03-13T13:43:32.546507Z",
          "shell.execute_reply": "2024-03-13T13:43:35.249419Z"
        },
        "trusted": true,
        "id": "S5rBN6DJubro"
      },
      "execution_count": null,
      "outputs": []
    },
    {
      "cell_type": "code",
      "source": [
        "df"
      ],
      "metadata": {
        "execution": {
          "iopub.status.busy": "2024-03-13T13:44:37.796977Z",
          "iopub.execute_input": "2024-03-13T13:44:37.797365Z",
          "iopub.status.idle": "2024-03-13T13:44:37.818098Z",
          "shell.execute_reply.started": "2024-03-13T13:44:37.797337Z",
          "shell.execute_reply": "2024-03-13T13:44:37.816852Z"
        },
        "trusted": true,
        "id": "0442SHWjubrp",
        "outputId": "0993bcb5-6247-48f5-e8ad-f990a082a686"
      },
      "execution_count": null,
      "outputs": [
        {
          "execution_count": 30,
          "output_type": "execute_result",
          "data": {
            "text/plain": "                      İsim Project ID Sub Project ID Activity ID  \\\n1           ABDULAZİZ ÜÇER  GZPTMOD52      GZPTMOD52  GR EKP KBL   \n3           ABDULAZİZ ÜÇER  GZPTMOD52      GZPTMOD52  GR EKP KBL   \n5           ABDULAZİZ ÜÇER  GZPTMOD52      GZPTMOD52  GR EKP KBL   \n7           ABDULAZİZ ÜÇER  GZPTMOD52      GZPTMOD52  GR EKP KBL   \n9           ABDULAZİZ ÜÇER  GZPTMOD52      GZPTMOD52  GR EKP KBL   \n11          ABDULAZİZ ÜÇER  GZPTMOD52      GZPTMOD52  GR EKP KBL   \n13          ABDULAZİZ ÜÇER  GZPTMOD52      GZPTMOD52  GR EKP KBL   \n...                    ...        ...            ...         ...   \n15140  ŞERİFE SENA BOZKURT     OMTTZA     OMTTZA_ILS     SNS_ILS   \n15142  ŞERİFE SENA BOZKURT     OMTTZA     OMTTZA_ILS     SNS_ILS   \n15144  ŞERİFE SENA BOZKURT     OMTTZA     OMTTZA_ILS     SNS_ILS   \n15146  ŞERİFE SENA BOZKURT     OMTTZA     OMTTZA_ILS     SNS_ILS   \n15148  ŞERİFE SENA BOZKURT     OMTTZA     OMTTZA_ILS     SNS_ILS   \n15150  ŞERİFE SENA BOZKURT     OMTTZA     OMTTZA_ILS     SNS_ILS   \n15152  ŞERİFE SENA BOZKURT     OMTTZA     OMTTZA_ILS     SNS_ILS   \n\n                       Report Code Name  Internal Quantity (Sum) Org Code  \\\n1                               TASARIM                     9.50     fnss   \n3                               TASARIM                     8.00     fnss   \n5                               TASARIM                     3.75     fnss   \n7                               TASARIM                     7.50     fnss   \n9                               TASARIM                     7.50     fnss   \n11                              TASARIM                     7.50     fnss   \n13                              TASARIM                     7.50     fnss   \n...                                 ...                      ...      ...   \n15140  TD and Training- Operator Manual                     7.25     fnss   \n15142  TD and Training- Operator Manual                     7.50     fnss   \n15144  TD and Training- Operator Manual                     7.25     fnss   \n15146  TD and Training- Operator Manual                     7.25     fnss   \n15148  TD and Training- Operator Manual                     7.00     fnss   \n15150  TD and Training- Operator Manual                     7.25     fnss   \n15152  TD and Training- Operator Manual                     7.50     fnss   \n\n                                                      tt  \n1                                    GZPTMOD52GR EKP KBL  \n3                                    GZPTMOD52GR EKP KBL  \n5                                    GZPTMOD52GR EKP KBL  \n7                                    GZPTMOD52GR EKP KBL  \n9                                    GZPTMOD52GR EKP KBL  \n11                                   GZPTMOD52GR EKP KBL  \n13                                   GZPTMOD52GR EKP KBL  \n...                                                  ...  \n15140  OMTTZA_ILSSNS_ILS_TD and Training- Operator Ma...  \n15142  OMTTZA_ILSSNS_ILS_TD and Training- Operator Ma...  \n15144  OMTTZA_ILSSNS_ILS_TD and Training- Operator Ma...  \n15146  OMTTZA_ILSSNS_ILS_TD and Training- Operator Ma...  \n15148  OMTTZA_ILSSNS_ILS_TD and Training- Operator Ma...  \n15150  OMTTZA_ILSSNS_ILS_TD and Training- Operator Ma...  \n15152  OMTTZA_ILSSNS_ILS_TD and Training- Operator Ma...  \n\n[8754 rows x 8 columns]",
            "text/html": "<div>\n<style scoped>\n    .dataframe tbody tr th:only-of-type {\n        vertical-align: middle;\n    }\n\n    .dataframe tbody tr th {\n        vertical-align: top;\n    }\n\n    .dataframe thead th {\n        text-align: right;\n    }\n</style>\n<table border=\"1\" class=\"dataframe\">\n  <thead>\n    <tr style=\"text-align: right;\">\n      <th></th>\n      <th>İsim</th>\n      <th>Project ID</th>\n      <th>Sub Project ID</th>\n      <th>Activity ID</th>\n      <th>Report Code Name</th>\n      <th>Internal Quantity (Sum)</th>\n      <th>Org Code</th>\n      <th>tt</th>\n    </tr>\n  </thead>\n  <tbody>\n    <tr>\n      <th>1</th>\n      <td>ABDULAZİZ ÜÇER</td>\n      <td>GZPTMOD52</td>\n      <td>GZPTMOD52</td>\n      <td>GR EKP KBL</td>\n      <td>TASARIM</td>\n      <td>9.50</td>\n      <td>fnss</td>\n      <td>GZPTMOD52GR EKP KBL</td>\n    </tr>\n    <tr>\n      <th>3</th>\n      <td>ABDULAZİZ ÜÇER</td>\n      <td>GZPTMOD52</td>\n      <td>GZPTMOD52</td>\n      <td>GR EKP KBL</td>\n      <td>TASARIM</td>\n      <td>8.00</td>\n      <td>fnss</td>\n      <td>GZPTMOD52GR EKP KBL</td>\n    </tr>\n    <tr>\n      <th>5</th>\n      <td>ABDULAZİZ ÜÇER</td>\n      <td>GZPTMOD52</td>\n      <td>GZPTMOD52</td>\n      <td>GR EKP KBL</td>\n      <td>TASARIM</td>\n      <td>3.75</td>\n      <td>fnss</td>\n      <td>GZPTMOD52GR EKP KBL</td>\n    </tr>\n    <tr>\n      <th>7</th>\n      <td>ABDULAZİZ ÜÇER</td>\n      <td>GZPTMOD52</td>\n      <td>GZPTMOD52</td>\n      <td>GR EKP KBL</td>\n      <td>TASARIM</td>\n      <td>7.50</td>\n      <td>fnss</td>\n      <td>GZPTMOD52GR EKP KBL</td>\n    </tr>\n    <tr>\n      <th>9</th>\n      <td>ABDULAZİZ ÜÇER</td>\n      <td>GZPTMOD52</td>\n      <td>GZPTMOD52</td>\n      <td>GR EKP KBL</td>\n      <td>TASARIM</td>\n      <td>7.50</td>\n      <td>fnss</td>\n      <td>GZPTMOD52GR EKP KBL</td>\n    </tr>\n    <tr>\n      <th>11</th>\n      <td>ABDULAZİZ ÜÇER</td>\n      <td>GZPTMOD52</td>\n      <td>GZPTMOD52</td>\n      <td>GR EKP KBL</td>\n      <td>TASARIM</td>\n      <td>7.50</td>\n      <td>fnss</td>\n      <td>GZPTMOD52GR EKP KBL</td>\n    </tr>\n    <tr>\n      <th>13</th>\n      <td>ABDULAZİZ ÜÇER</td>\n      <td>GZPTMOD52</td>\n      <td>GZPTMOD52</td>\n      <td>GR EKP KBL</td>\n      <td>TASARIM</td>\n      <td>7.50</td>\n      <td>fnss</td>\n      <td>GZPTMOD52GR EKP KBL</td>\n    </tr>\n    <tr>\n      <th>...</th>\n      <td>...</td>\n      <td>...</td>\n      <td>...</td>\n      <td>...</td>\n      <td>...</td>\n      <td>...</td>\n      <td>...</td>\n      <td>...</td>\n    </tr>\n    <tr>\n      <th>15140</th>\n      <td>ŞERİFE SENA BOZKURT</td>\n      <td>OMTTZA</td>\n      <td>OMTTZA_ILS</td>\n      <td>SNS_ILS</td>\n      <td>TD and Training- Operator Manual</td>\n      <td>7.25</td>\n      <td>fnss</td>\n      <td>OMTTZA_ILSSNS_ILS_TD and Training- Operator Ma...</td>\n    </tr>\n    <tr>\n      <th>15142</th>\n      <td>ŞERİFE SENA BOZKURT</td>\n      <td>OMTTZA</td>\n      <td>OMTTZA_ILS</td>\n      <td>SNS_ILS</td>\n      <td>TD and Training- Operator Manual</td>\n      <td>7.50</td>\n      <td>fnss</td>\n      <td>OMTTZA_ILSSNS_ILS_TD and Training- Operator Ma...</td>\n    </tr>\n    <tr>\n      <th>15144</th>\n      <td>ŞERİFE SENA BOZKURT</td>\n      <td>OMTTZA</td>\n      <td>OMTTZA_ILS</td>\n      <td>SNS_ILS</td>\n      <td>TD and Training- Operator Manual</td>\n      <td>7.25</td>\n      <td>fnss</td>\n      <td>OMTTZA_ILSSNS_ILS_TD and Training- Operator Ma...</td>\n    </tr>\n    <tr>\n      <th>15146</th>\n      <td>ŞERİFE SENA BOZKURT</td>\n      <td>OMTTZA</td>\n      <td>OMTTZA_ILS</td>\n      <td>SNS_ILS</td>\n      <td>TD and Training- Operator Manual</td>\n      <td>7.25</td>\n      <td>fnss</td>\n      <td>OMTTZA_ILSSNS_ILS_TD and Training- Operator Ma...</td>\n    </tr>\n    <tr>\n      <th>15148</th>\n      <td>ŞERİFE SENA BOZKURT</td>\n      <td>OMTTZA</td>\n      <td>OMTTZA_ILS</td>\n      <td>SNS_ILS</td>\n      <td>TD and Training- Operator Manual</td>\n      <td>7.00</td>\n      <td>fnss</td>\n      <td>OMTTZA_ILSSNS_ILS_TD and Training- Operator Ma...</td>\n    </tr>\n    <tr>\n      <th>15150</th>\n      <td>ŞERİFE SENA BOZKURT</td>\n      <td>OMTTZA</td>\n      <td>OMTTZA_ILS</td>\n      <td>SNS_ILS</td>\n      <td>TD and Training- Operator Manual</td>\n      <td>7.25</td>\n      <td>fnss</td>\n      <td>OMTTZA_ILSSNS_ILS_TD and Training- Operator Ma...</td>\n    </tr>\n    <tr>\n      <th>15152</th>\n      <td>ŞERİFE SENA BOZKURT</td>\n      <td>OMTTZA</td>\n      <td>OMTTZA_ILS</td>\n      <td>SNS_ILS</td>\n      <td>TD and Training- Operator Manual</td>\n      <td>7.50</td>\n      <td>fnss</td>\n      <td>OMTTZA_ILSSNS_ILS_TD and Training- Operator Ma...</td>\n    </tr>\n  </tbody>\n</table>\n<p>8754 rows × 8 columns</p>\n</div>"
          },
          "metadata": {}
        }
      ]
    },
    {
      "cell_type": "code",
      "source": [
        "for index, row in reversed(list(df.iterrows())):\n",
        "    # Her bir koşul için gerekli işlemleri yap\n",
        "    if row['Activity ID'] == \"SYSDETAILD\":\n",
        "        if row['Project ID'] == \"AV8\":\n",
        "            new_value = f\"{row['Project ID']}_{row['Sub Project ID']}{row['Activity ID']}_{row['Report Code Name']}\"\n",
        "        else:\n",
        "            new_value = f\"{row['Sub Project ID']}{row['Activity ID']}_{row['Report Code Name']}\"\n",
        "\n",
        "    elif row['Project ID'] == \"AV8\" and row['Sub Project ID'] == \"SYSDETAILD\":\n",
        "        new_value = f\"{row['Project ID']}_{row['Activity ID']}{row['Sub Project ID']}_{row['Report Code Name']}\"\n",
        "\n",
        "    elif row['Project ID'] == \"AV8\" and row['Sub Project ID'] == \"SYSDETAILD\":\n",
        "        new_value = f\"{row['Project ID']}_{row['Activity ID']}{row['Sub Project ID']}_{row['Report Code Name']}\""
      ],
      "metadata": {
        "execution": {
          "iopub.status.busy": "2024-03-13T11:46:07.184499Z",
          "iopub.execute_input": "2024-03-13T11:46:07.184849Z",
          "iopub.status.idle": "2024-03-13T11:46:07.193232Z",
          "shell.execute_reply.started": "2024-03-13T11:46:07.184823Z",
          "shell.execute_reply": "2024-03-13T11:46:07.191553Z"
        },
        "trusted": true,
        "id": "NJuk3Dkmubrp"
      },
      "execution_count": null,
      "outputs": []
    },
    {
      "cell_type": "code",
      "source": [],
      "metadata": {
        "id": "M7yUXRZfubrp"
      },
      "execution_count": null,
      "outputs": []
    },
    {
      "cell_type": "code",
      "source": [],
      "metadata": {
        "id": "jf6sfTs7ubrp"
      },
      "execution_count": null,
      "outputs": []
    },
    {
      "cell_type": "code",
      "source": [],
      "metadata": {
        "id": "mr1QGzGJubrp"
      },
      "execution_count": null,
      "outputs": []
    },
    {
      "cell_type": "code",
      "source": [],
      "metadata": {
        "id": "d5uASO8dubrp"
      },
      "execution_count": null,
      "outputs": []
    },
    {
      "cell_type": "code",
      "source": [],
      "metadata": {
        "id": "VOs-YuSgubrq"
      },
      "execution_count": null,
      "outputs": []
    },
    {
      "cell_type": "code",
      "source": [],
      "metadata": {
        "id": "XeZ8bn_kubrq"
      },
      "execution_count": null,
      "outputs": []
    },
    {
      "cell_type": "code",
      "source": [],
      "metadata": {
        "id": "cpDloLx3ubrq"
      },
      "execution_count": null,
      "outputs": []
    },
    {
      "cell_type": "code",
      "source": [],
      "metadata": {
        "id": "vnqwxAkFubru"
      },
      "execution_count": null,
      "outputs": []
    },
    {
      "cell_type": "code",
      "source": [],
      "metadata": {
        "id": "kxF0Pq3Fubrv"
      },
      "execution_count": null,
      "outputs": []
    },
    {
      "cell_type": "code",
      "source": [],
      "metadata": {
        "id": "OHyhYammubrv"
      },
      "execution_count": null,
      "outputs": []
    },
    {
      "cell_type": "code",
      "source": [],
      "metadata": {
        "id": "AsFmtZu2ubrv"
      },
      "execution_count": null,
      "outputs": []
    },
    {
      "cell_type": "code",
      "source": [],
      "metadata": {
        "id": "uVA2hefyubrv"
      },
      "execution_count": null,
      "outputs": []
    },
    {
      "cell_type": "code",
      "source": [],
      "metadata": {
        "id": "wyujdQGUubrv"
      },
      "execution_count": null,
      "outputs": []
    }
  ]
}